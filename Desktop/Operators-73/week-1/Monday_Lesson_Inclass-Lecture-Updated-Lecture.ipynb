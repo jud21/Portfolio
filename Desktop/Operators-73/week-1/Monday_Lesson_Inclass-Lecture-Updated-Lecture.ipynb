{
 "cells": [
  {
   "cell_type": "markdown",
   "metadata": {},
   "source": [
    "# Week 2 - Monday Lesson (variable assignment, loops, lists)"
   ]
  },
  {
   "cell_type": "markdown",
   "metadata": {},
   "source": [
    "## Tasks Today:\n",
    "\n",
    "1) Int & Float assignments <br>\n",
    " &nbsp;&nbsp;&nbsp;&nbsp; a) Assigning int <br>\n",
    " &nbsp;&nbsp;&nbsp;&nbsp; b) Assigning float <br>\n",
    " &nbsp;&nbsp;&nbsp;&nbsp; c) Performing Calculations on ints and floats <br>\n",
    " &nbsp;&nbsp;&nbsp;&nbsp;&nbsp;&nbsp;&nbsp;&nbsp; - Addition <br>\n",
    " &nbsp;&nbsp;&nbsp;&nbsp;&nbsp;&nbsp;&nbsp;&nbsp; - Subtraction <br>\n",
    " &nbsp;&nbsp;&nbsp;&nbsp;&nbsp;&nbsp;&nbsp;&nbsp; - Multiplication <br>\n",
    " &nbsp;&nbsp;&nbsp;&nbsp;&nbsp;&nbsp;&nbsp;&nbsp; - Division <br>\n",
    " &nbsp;&nbsp;&nbsp;&nbsp;&nbsp;&nbsp;&nbsp;&nbsp; - Floor Division <br>\n",
    " &nbsp;&nbsp;&nbsp;&nbsp;&nbsp;&nbsp;&nbsp;&nbsp; - Modulo <br>\n",
    " &nbsp;&nbsp;&nbsp;&nbsp;&nbsp;&nbsp;&nbsp;&nbsp; - Exponential <br>\n",
    "2) String Input-Output <br>\n",
    " &nbsp;&nbsp;&nbsp;&nbsp; a) String Assignment <br>\n",
    " &nbsp;&nbsp;&nbsp;&nbsp; b) print() <br>\n",
    " &nbsp;&nbsp;&nbsp;&nbsp; c) String Concatenation <br>\n",
    " &nbsp;&nbsp;&nbsp;&nbsp; d) Type Conversion <br>\n",
    " &nbsp;&nbsp;&nbsp;&nbsp; e) input() <br>\n",
    " &nbsp;&nbsp;&nbsp;&nbsp; f) format() <br>\n",
    " &nbsp;&nbsp;&nbsp;&nbsp; g) Old Way (python 2) <br>\n",
    "3) <b>In-Class Exercise #1</b> <br>\n",
    "4) If Statements <br>\n",
    " &nbsp;&nbsp;&nbsp;&nbsp; a) 'is' keyword <br>\n",
    " &nbsp;&nbsp;&nbsp;&nbsp; b) 'in' keyword <br>\n",
    " &nbsp;&nbsp;&nbsp;&nbsp; c) 'not in' keyword <br>\n",
    "5) <b>In-Class Exercise #2</b> <br>\n",
    "6) Elif Statements <br>\n",
    "7) Else Statements <br>\n",
    "8) <b>In-Class Exercise #3</b> <br>\n",
    "9) For Loops <br>\n",
    " &nbsp;&nbsp;&nbsp;&nbsp; a) Using 'in' keyword <br>\n",
    " &nbsp;&nbsp;&nbsp;&nbsp; b) Continue Statement <br>\n",
    " &nbsp;&nbsp;&nbsp;&nbsp; c) Break Statement <br>\n",
    " &nbsp;&nbsp;&nbsp;&nbsp; d) Pass Statement <br>\n",
    " &nbsp;&nbsp;&nbsp;&nbsp; e) Double For Loops <br>\n",
    "10) While Loops <br>\n",
    " &nbsp;&nbsp;&nbsp;&nbsp; a) Looping 'While True' <br>\n",
    " &nbsp;&nbsp;&nbsp;&nbsp; b) While and For Loops Used Together <br>\n",
    "11) Built-In Functions <br>\n",
    " &nbsp;&nbsp;&nbsp;&nbsp; a) range() <br>\n",
    " &nbsp;&nbsp;&nbsp;&nbsp; b) len() <br>\n",
    " &nbsp;&nbsp;&nbsp;&nbsp; c) help() <br>\n",
    " &nbsp;&nbsp;&nbsp;&nbsp; d) isinstance() <br>\n",
    " &nbsp;&nbsp;&nbsp;&nbsp; e) abs() <br>\n",
    "12) Try and Except <br>\n",
    "13) Lists <br>\n",
    " &nbsp;&nbsp;&nbsp;&nbsp; a) Declaring Lists <br>\n",
    " &nbsp;&nbsp;&nbsp;&nbsp; b) Indexing a List <br>\n",
    " &nbsp;&nbsp;&nbsp;&nbsp; c) .append() <br>\n",
    " &nbsp;&nbsp;&nbsp;&nbsp; d) .insert() <br>\n",
    " &nbsp;&nbsp;&nbsp;&nbsp; e) .pop() <br>\n",
    " &nbsp;&nbsp;&nbsp;&nbsp; f) .remove() <br>\n",
    " &nbsp;&nbsp;&nbsp;&nbsp; g) del() <br>\n",
    " &nbsp;&nbsp;&nbsp;&nbsp; h) Concatenating Two Lists <br>\n",
    " &nbsp;&nbsp;&nbsp;&nbsp; i) Lists Within Lists <br>\n",
    " &nbsp;&nbsp;&nbsp;&nbsp; j) Looping Through Lists <br>"
   ]
  },
  {
   "cell_type": "markdown",
   "metadata": {},
   "source": [
    "### Int & Float Assignments"
   ]
  },
  {
   "cell_type": "markdown",
   "metadata": {},
   "source": [
    "##### Assigning int"
   ]
  },
  {
   "cell_type": "code",
   "execution_count": 3,
   "metadata": {},
   "outputs": [
    {
     "name": "stdout",
     "output_type": "stream",
     "text": [
      "6\n"
     ]
    }
   ],
   "source": [
    "#int is a whole number\n",
    "# syntax: variable = value\n",
    "\n",
    "number = 6\n",
    "print(number)\n"
   ]
  },
  {
   "cell_type": "markdown",
   "metadata": {},
   "source": [
    "##### Assinging float"
   ]
  },
  {
   "cell_type": "code",
   "execution_count": 4,
   "metadata": {},
   "outputs": [
    {
     "name": "stdout",
     "output_type": "stream",
     "text": [
      "2.6\n"
     ]
    }
   ],
   "source": [
    "# float is a number with a decimal\n",
    "number_float = 2.6\n",
    "print(number_float)"
   ]
  },
  {
   "cell_type": "markdown",
   "metadata": {},
   "source": [
    "#### Performing Calculations on ints and floats"
   ]
  },
  {
   "cell_type": "markdown",
   "metadata": {},
   "source": [
    "##### Addition"
   ]
  },
  {
   "cell_type": "code",
   "execution_count": 6,
   "metadata": {
    "scrolled": true
   },
   "outputs": [
    {
     "name": "stdout",
     "output_type": "stream",
     "text": [
      "7.4\n",
      "9.4\n"
     ]
    }
   ],
   "source": [
    "num1= 5\n",
    "num2= 2.4\n",
    "\n",
    "result = num1 + num2\n",
    "print(result)\n",
    "\n",
    "#Shorthand for incrementing\n",
    "#result = result+2\n",
    "result += 2\n",
    "print(result)"
   ]
  },
  {
   "cell_type": "markdown",
   "metadata": {},
   "source": [
    "##### Subtraction"
   ]
  },
  {
   "cell_type": "code",
   "execution_count": 8,
   "metadata": {},
   "outputs": [
    {
     "name": "stdout",
     "output_type": "stream",
     "text": [
      "0\n",
      "-1\n"
     ]
    }
   ],
   "source": [
    "result_diff = 5 - num1\n",
    "print(result_diff)\n",
    "\n",
    "#result_diff = result_diff - 1\n",
    "\n",
    "result_diff -= 1\n",
    "print(result_diff)"
   ]
  },
  {
   "cell_type": "markdown",
   "metadata": {},
   "source": [
    "##### Multiplication"
   ]
  },
  {
   "cell_type": "code",
   "execution_count": 19,
   "metadata": {},
   "outputs": [
    {
     "name": "stdout",
     "output_type": "stream",
     "text": [
      "12.0\n",
      "24.0\n"
     ]
    }
   ],
   "source": [
    "result_mul = num1 * num2\n",
    "print(result_mul)\n",
    "\n",
    "result_mul *= 2\n",
    "print(result_mul)"
   ]
  },
  {
   "cell_type": "markdown",
   "metadata": {},
   "source": [
    "##### Division"
   ]
  },
  {
   "cell_type": "code",
   "execution_count": 21,
   "metadata": {},
   "outputs": [
    {
     "name": "stdout",
     "output_type": "stream",
     "text": [
      "10.0\n",
      "5.0\n"
     ]
    }
   ],
   "source": [
    "result_div = 50 / num1\n",
    "print(result_div)\n",
    "\n",
    "result_div /= 2\n",
    "print(result_div)"
   ]
  },
  {
   "cell_type": "markdown",
   "metadata": {},
   "source": [
    "##### Floor Division"
   ]
  },
  {
   "cell_type": "code",
   "execution_count": 23,
   "metadata": {},
   "outputs": [
    {
     "name": "stdout",
     "output_type": "stream",
     "text": [
      "3\n",
      "1\n"
     ]
    }
   ],
   "source": [
    "result_floor = 20 // 6\n",
    "print(result_floor)\n",
    "\n",
    "result_floor //= 2\n",
    "print(result_floor)"
   ]
  },
  {
   "cell_type": "markdown",
   "metadata": {},
   "source": [
    "##### Modulo"
   ]
  },
  {
   "cell_type": "code",
   "execution_count": 24,
   "metadata": {},
   "outputs": [
    {
     "name": "stdout",
     "output_type": "stream",
     "text": [
      "1\n"
     ]
    }
   ],
   "source": [
    "result_mod = 10 % 3\n",
    "print(result_mod)"
   ]
  },
  {
   "cell_type": "markdown",
   "metadata": {},
   "source": [
    "##### Exponential"
   ]
  },
  {
   "cell_type": "code",
   "execution_count": 27,
   "metadata": {},
   "outputs": [
    {
     "name": "stdout",
     "output_type": "stream",
     "text": [
      "100\n",
      "10000\n"
     ]
    }
   ],
   "source": [
    "squared = 10**2\n",
    "print(squared)\n",
    "\n",
    "squared **= 2\n",
    "print(squared)"
   ]
  },
  {
   "cell_type": "markdown",
   "metadata": {},
   "source": [
    "### String Input-Output"
   ]
  },
  {
   "cell_type": "markdown",
   "metadata": {},
   "source": [
    "##### String Assignment"
   ]
  },
  {
   "cell_type": "code",
   "execution_count": 28,
   "metadata": {},
   "outputs": [
    {
     "name": "stdout",
     "output_type": "stream",
     "text": [
      "JD\n"
     ]
    }
   ],
   "source": [
    "name = \"JD\"\n",
    "print(name)"
   ]
  },
  {
   "cell_type": "markdown",
   "metadata": {},
   "source": [
    "##### print() <br>\n",
    "<p>Don't forget about end=' '</p>"
   ]
  },
  {
   "cell_type": "code",
   "execution_count": 31,
   "metadata": {},
   "outputs": [
    {
     "name": "stdout",
     "output_type": "stream",
     "text": [
      "This is my first name: JD JD JD JD Boogaloo\n"
     ]
    }
   ],
   "source": [
    "print(\"This is my first name: JD\", name, name, name, \"Boogaloo\")"
   ]
  },
  {
   "cell_type": "markdown",
   "metadata": {},
   "source": [
    "##### String Concatenation"
   ]
  },
  {
   "cell_type": "code",
   "execution_count": 34,
   "metadata": {},
   "outputs": [
    {
     "name": "stdout",
     "output_type": "stream",
     "text": [
      "James Bond\n",
      "James Bond the 3rd\n"
     ]
    }
   ],
   "source": [
    "first = 'James'\n",
    "last = \"Bond\"\n",
    "\n",
    "full_name = first + \" \" + last\n",
    "print(full_name)\n",
    "\n",
    "\n",
    "full_name += \" the 3rd\"\n",
    "print(full_name)"
   ]
  },
  {
   "cell_type": "markdown",
   "metadata": {},
   "source": [
    "##### Type Conversion"
   ]
  },
  {
   "cell_type": "code",
   "execution_count": 36,
   "metadata": {},
   "outputs": [
    {
     "name": "stdout",
     "output_type": "stream",
     "text": [
      "45\n",
      "45\n"
     ]
    }
   ],
   "source": [
    "number = '45'\n",
    "\n",
    "new_type = int(number)\n",
    "print(number)\n",
    "print(new_type)"
   ]
  },
  {
   "cell_type": "markdown",
   "metadata": {},
   "source": [
    "##### input()"
   ]
  },
  {
   "cell_type": "code",
   "execution_count": 37,
   "metadata": {},
   "outputs": [
    {
     "name": "stdout",
     "output_type": "stream",
     "text": [
      "What is your name?JD\n",
      "JD\n"
     ]
    }
   ],
   "source": [
    "# Input will always return a string\n",
    "#Syntax: variable = input(\"Some question for user goes here...\")\n",
    "\n",
    "name = input(\"What is your name?\")\n",
    "\n",
    "print(name)"
   ]
  },
  {
   "cell_type": "markdown",
   "metadata": {},
   "source": [
    "##### format()"
   ]
  },
  {
   "cell_type": "code",
   "execution_count": 39,
   "metadata": {},
   "outputs": [
    {
     "name": "stdout",
     "output_type": "stream",
     "text": [
      "How long have you been at coding temple?JD\n",
      "Your name is JD you have been at Coding Temple for JD\n",
      "Your name is JD and you have been at Coding Temple for JD!\n"
     ]
    }
   ],
   "source": [
    "time = input(\"How long have you been at coding temple?\")\n",
    "\n",
    "#non efficient way... sentence = \"Your name is\" + \" \" + \"You have been at CT for\" + time\n",
    "result = \"Your name is {} you have been at Coding Temple for {}\".format(name, time)\n",
    "print(result)\n",
    "\n",
    "#f string\n",
    "result_2 = f\"Your name is {name} and you have been at Coding Temple for {time}!\"\n",
    "print(result_2)"
   ]
  },
  {
   "cell_type": "markdown",
   "metadata": {},
   "source": [
    "##### Old Way (python 2)"
   ]
  },
  {
   "cell_type": "code",
   "execution_count": 40,
   "metadata": {},
   "outputs": [
    {
     "name": "stdout",
     "output_type": "stream",
     "text": [
      "You have been at CT for JD\n"
     ]
    }
   ],
   "source": [
    "#Old method... but you may see this in some older documentation\n",
    "result_3 = \"You have been at CT for %s\" %time\n",
    "print(result_3)"
   ]
  },
  {
   "cell_type": "markdown",
   "metadata": {},
   "source": [
    "# In-Class Exercise 1 <br>\n",
    "<p>Create a format statement that asks for color, year, make, model and prints out the results</p>"
   ]
  },
  {
   "cell_type": "code",
   "execution_count": 42,
   "metadata": {},
   "outputs": [
    {
     "name": "stdout",
     "output_type": "stream",
     "text": [
      "What color is your car?blue\n",
      "What year was your car made?2017\n",
      "What company produced your car?Ford\n",
      "What model of car do you have?Escape\n",
      "I am driving a blue, 2017 Ford Escape.\n",
      "I am driving a blue, 2017 Ford Escape.\n"
     ]
    }
   ],
   "source": [
    "#Output: I am driving a blue, 2017 Ford Escape.\n",
    "car_color = input(\"What color is your car?\")\n",
    "car_year = input(\"What year was your car made?\")\n",
    "car_make = input(\"What company produced your car?\")\n",
    "car_model = input(\"What model of car do you have?\")\n",
    "\n",
    "car_statement = f\"I am driving a {car_color}, {car_year} {car_make} {car_model}.\"\n",
    "print(car_statement)\n",
    "print(car_statement)"
   ]
  },
  {
   "cell_type": "markdown",
   "metadata": {},
   "source": [
    "### If Statements"
   ]
  },
  {
   "cell_type": "code",
   "execution_count": null,
   "metadata": {},
   "outputs": [],
   "source": [
    "# Available operators: Greater(>), Less(<),Equal(==)\n",
    "# Greater or Equal(>=), Less or Equal (<=)\n",
    "\n",
    "# Truth Tree:\n",
    "# T && F = F\n",
    "# T && T = T\n",
    "# T || F = T\n",
    "# F || T = T\n",
    "# F || F = F"
   ]
  },
  {
   "cell_type": "markdown",
   "metadata": {},
   "source": [
    "##### 'is' keyword"
   ]
  },
  {
   "cell_type": "code",
   "execution_count": 46,
   "metadata": {
    "scrolled": true
   },
   "outputs": [
    {
     "name": "stdout",
     "output_type": "stream",
     "text": [
      "This is the exact object\n"
     ]
    },
    {
     "name": "stderr",
     "output_type": "stream",
     "text": [
      "<>:4: SyntaxWarning: \"is\" with a literal. Did you mean \"==\"?\n",
      "<>:4: SyntaxWarning: \"is\" with a literal. Did you mean \"==\"?\n",
      "<ipython-input-46-5ee2b975af99>:4: SyntaxWarning: \"is\" with a literal. Did you mean \"==\"?\n",
      "  if num3 is 55:\n"
     ]
    }
   ],
   "source": [
    "# use is if we are checking for the same or a similar object, not necessarily the same value\n",
    "num3 = 55\n",
    "\n",
    "if num3 is 55:\n",
    "    print('This is the exact object')"
   ]
  },
  {
   "cell_type": "markdown",
   "metadata": {},
   "source": [
    "##### 'in' keyword"
   ]
  },
  {
   "cell_type": "code",
   "execution_count": 51,
   "metadata": {},
   "outputs": [
    {
     "name": "stdout",
     "output_type": "stream",
     "text": [
      "The character who lost everything...\n"
     ]
    }
   ],
   "source": [
    "# Check if a character is in a name, will probably be more useful for lists\n",
    "# Case sensitive inside variable\n",
    "\n",
    "char_name = \"Max Payne\"\n",
    "\n",
    "if \"Max\" in char_name:\n",
    "    print(\"The character who lost everything...\")"
   ]
  },
  {
   "cell_type": "markdown",
   "metadata": {},
   "source": [
    "##### 'not in' keyword'"
   ]
  },
  {
   "cell_type": "code",
   "execution_count": 52,
   "metadata": {},
   "outputs": [
    {
     "name": "stdout",
     "output_type": "stream",
     "text": [
      "There is no a\n"
     ]
    }
   ],
   "source": [
    "char2 = \"Sonic\"\n",
    "\n",
    "if 'a' not in char2:\n",
    "    print('There is no a')"
   ]
  },
  {
   "cell_type": "markdown",
   "metadata": {},
   "source": [
    "# In-Class Exercise 2 <br>\n",
    "<p>Ask user for input, check to see if the letter 'p' is in the input</p>"
   ]
  },
  {
   "cell_type": "code",
   "execution_count": 57,
   "metadata": {},
   "outputs": [
    {
     "name": "stdout",
     "output_type": "stream",
     "text": [
      "What is your console of choice?playstation\n",
      "True\n"
     ]
    }
   ],
   "source": [
    "fav_video_game_console = input(\"What is your console of choice?\")\n",
    "if 'p' or 'P' in fav_video_game_console:\n",
    "    print(True)\n",
    "else:\n",
    "    print(False)"
   ]
  },
  {
   "cell_type": "markdown",
   "metadata": {},
   "source": [
    "## Using 'and'/'or' with If Statements"
   ]
  },
  {
   "cell_type": "code",
   "execution_count": 60,
   "metadata": {},
   "outputs": [
    {
     "name": "stdout",
     "output_type": "stream",
     "text": [
      "True and True\n",
      "At least one is true\n"
     ]
    }
   ],
   "source": [
    "# Truth Tree:\n",
    "# T && F = F\n",
    "# T && T = T\n",
    "# T || F = T\n",
    "# F || T = T\n",
    "# F || F = F\n",
    "\n",
    "num_1 = 15\n",
    "num_2 = 3\n",
    "num_3 = 10\n",
    "num_4 =2\n",
    "\n",
    "# If with \"and\" keyword\n",
    "if 15 / 5 == 3 and 10 - 8 == 2:\n",
    "    print(\"True and True\")\n",
    "\n",
    "if 15 - 7 == 8 or 2 + 2 == 1000:\n",
    "    print('At least one is true')"
   ]
  },
  {
   "cell_type": "markdown",
   "metadata": {},
   "source": [
    "### Elif Statements"
   ]
  },
  {
   "cell_type": "code",
   "execution_count": 63,
   "metadata": {},
   "outputs": [
    {
     "name": "stdout",
     "output_type": "stream",
     "text": [
      "What school did you go to?Ohio State University\n",
      "lol, that's probably not even a school\n"
     ]
    }
   ],
   "source": [
    "school_name = input(\"What school did you go to?\")\n",
    "\n",
    "if school_name == \"Indiana University\":\n",
    "    print(\"You went to IU\")\n",
    "elif school_name == \"Coding Temple\":\n",
    "    print(\"You went to Coding Temple!\")\n",
    "elif school_name == \"CTU\":\n",
    "    print(\"You went to CTU\")\n",
    "else:\n",
    "    print(\"lol, that's probably not even a school\")"
   ]
  },
  {
   "cell_type": "markdown",
   "metadata": {},
   "source": [
    "### Else Statements"
   ]
  },
  {
   "cell_type": "code",
   "execution_count": null,
   "metadata": {},
   "outputs": [],
   "source": [
    "# see above"
   ]
  },
  {
   "cell_type": "markdown",
   "metadata": {},
   "source": [
    "### For Loops"
   ]
  },
  {
   "cell_type": "code",
   "execution_count": 71,
   "metadata": {},
   "outputs": [
    {
     "name": "stdout",
     "output_type": "stream",
     "text": [
      "J\n",
      "D\n",
      " \n",
      "F\n",
      "a\n",
      "l\n",
      "l\n",
      "o\n",
      "n\n"
     ]
    },
    {
     "data": {
      "text/plain": [
       "9"
      ]
     },
     "execution_count": 71,
     "metadata": {},
     "output_type": "execute_result"
    }
   ],
   "source": [
    "# \"for\" is the keyword... sometimes it's \"counter\"... or \"in\".\n",
    "\n",
    "name = \"JD Fallon\"\n",
    "\n",
    "for char in name:\n",
    "    print(char)\n",
    "\n",
    "len(name)"
   ]
  },
  {
   "cell_type": "markdown",
   "metadata": {},
   "source": [
    "##### Using 'in' keyword"
   ]
  },
  {
   "cell_type": "code",
   "execution_count": null,
   "metadata": {},
   "outputs": [],
   "source": [
    "# see above"
   ]
  },
  {
   "cell_type": "markdown",
   "metadata": {},
   "source": [
    "##### Continue Statement"
   ]
  },
  {
   "cell_type": "code",
   "execution_count": null,
   "metadata": {},
   "outputs": [],
   "source": [
    "# will continue to next iteration"
   ]
  },
  {
   "cell_type": "code",
   "execution_count": 72,
   "metadata": {},
   "outputs": [
    {
     "name": "stdout",
     "output_type": "stream",
     "text": [
      "1\n",
      "2\n",
      "4\n",
      "5\n",
      "7\n",
      "8\n",
      "10\n",
      "11\n",
      "13\n",
      "14\n",
      "16\n",
      "17\n",
      "19\n"
     ]
    }
   ],
   "source": [
    "for i in range(20):\n",
    "    if i % 3 == 0:\n",
    "        continue\n",
    "    print(i)"
   ]
  },
  {
   "cell_type": "markdown",
   "metadata": {},
   "source": [
    "##### Break Statement"
   ]
  },
  {
   "cell_type": "code",
   "execution_count": null,
   "metadata": {},
   "outputs": [],
   "source": [
    "# will break out of current loop"
   ]
  },
  {
   "cell_type": "code",
   "execution_count": 73,
   "metadata": {},
   "outputs": [
    {
     "name": "stdout",
     "output_type": "stream",
     "text": [
      "0\n",
      "1\n",
      "2\n",
      "3\n",
      "4\n",
      "5\n",
      "6\n"
     ]
    }
   ],
   "source": [
    "for i in range(20):\n",
    "    if i == 7:\n",
    "        break\n",
    "    print(i)"
   ]
  },
  {
   "cell_type": "markdown",
   "metadata": {},
   "source": [
    "##### Pass Statement"
   ]
  },
  {
   "cell_type": "code",
   "execution_count": null,
   "metadata": {},
   "outputs": [],
   "source": [
    "# mostly used as a placeholder, and will continue on same iteration"
   ]
  },
  {
   "cell_type": "code",
   "execution_count": null,
   "metadata": {},
   "outputs": [],
   "source": [
    "for i in name:\n",
    "    pass #To do.  Come back and finish this section later."
   ]
  },
  {
   "cell_type": "markdown",
   "metadata": {},
   "source": [
    "##### Double For Loops"
   ]
  },
  {
   "cell_type": "code",
   "execution_count": 79,
   "metadata": {},
   "outputs": [
    {
     "name": "stdout",
     "output_type": "stream",
     "text": [
      "i = 0 j = 0 k = 0 l = 0\n",
      "i = 0 j = 0 k = 0 l = 1\n",
      "i = 0 j = 0 k = 0 l = 2\n",
      "i = 0 j = 0 k = 0 l = 3\n",
      "i = 0 j = 0 k = 0 l = 4\n",
      "i = 0 j = 0 k = 1 l = 0\n",
      "i = 0 j = 0 k = 1 l = 1\n",
      "i = 0 j = 0 k = 1 l = 2\n",
      "i = 0 j = 0 k = 1 l = 3\n",
      "i = 0 j = 0 k = 1 l = 4\n",
      "i = 0 j = 0 k = 2 l = 0\n",
      "i = 0 j = 0 k = 2 l = 1\n",
      "i = 0 j = 0 k = 2 l = 2\n",
      "i = 0 j = 0 k = 2 l = 3\n",
      "i = 0 j = 0 k = 2 l = 4\n",
      "i = 0 j = 0 k = 3 l = 0\n",
      "i = 0 j = 0 k = 3 l = 1\n",
      "i = 0 j = 0 k = 3 l = 2\n",
      "i = 0 j = 0 k = 3 l = 3\n",
      "i = 0 j = 0 k = 3 l = 4\n",
      "i = 0 j = 0 k = 4 l = 0\n",
      "i = 0 j = 0 k = 4 l = 1\n",
      "i = 0 j = 0 k = 4 l = 2\n",
      "i = 0 j = 0 k = 4 l = 3\n",
      "i = 0 j = 0 k = 4 l = 4\n",
      "i = 0 j = 1 k = 0 l = 0\n",
      "i = 0 j = 1 k = 0 l = 1\n",
      "i = 0 j = 1 k = 0 l = 2\n",
      "i = 0 j = 1 k = 0 l = 3\n",
      "i = 0 j = 1 k = 0 l = 4\n",
      "i = 0 j = 1 k = 1 l = 0\n",
      "i = 0 j = 1 k = 1 l = 1\n",
      "i = 0 j = 1 k = 1 l = 2\n",
      "i = 0 j = 1 k = 1 l = 3\n",
      "i = 0 j = 1 k = 1 l = 4\n",
      "i = 0 j = 1 k = 2 l = 0\n",
      "i = 0 j = 1 k = 2 l = 1\n",
      "i = 0 j = 1 k = 2 l = 2\n",
      "i = 0 j = 1 k = 2 l = 3\n",
      "i = 0 j = 1 k = 2 l = 4\n",
      "i = 0 j = 1 k = 3 l = 0\n",
      "i = 0 j = 1 k = 3 l = 1\n",
      "i = 0 j = 1 k = 3 l = 2\n",
      "i = 0 j = 1 k = 3 l = 3\n",
      "i = 0 j = 1 k = 3 l = 4\n",
      "i = 0 j = 1 k = 4 l = 0\n",
      "i = 0 j = 1 k = 4 l = 1\n",
      "i = 0 j = 1 k = 4 l = 2\n",
      "i = 0 j = 1 k = 4 l = 3\n",
      "i = 0 j = 1 k = 4 l = 4\n",
      "i = 0 j = 2 k = 0 l = 0\n",
      "i = 0 j = 2 k = 0 l = 1\n",
      "i = 0 j = 2 k = 0 l = 2\n",
      "i = 0 j = 2 k = 0 l = 3\n",
      "i = 0 j = 2 k = 0 l = 4\n",
      "i = 0 j = 2 k = 1 l = 0\n",
      "i = 0 j = 2 k = 1 l = 1\n",
      "i = 0 j = 2 k = 1 l = 2\n",
      "i = 0 j = 2 k = 1 l = 3\n",
      "i = 0 j = 2 k = 1 l = 4\n",
      "i = 0 j = 2 k = 2 l = 0\n",
      "i = 0 j = 2 k = 2 l = 1\n",
      "i = 0 j = 2 k = 2 l = 2\n",
      "i = 0 j = 2 k = 2 l = 3\n",
      "i = 0 j = 2 k = 2 l = 4\n",
      "i = 0 j = 2 k = 3 l = 0\n",
      "i = 0 j = 2 k = 3 l = 1\n",
      "i = 0 j = 2 k = 3 l = 2\n",
      "i = 0 j = 2 k = 3 l = 3\n",
      "i = 0 j = 2 k = 3 l = 4\n",
      "i = 0 j = 2 k = 4 l = 0\n",
      "i = 0 j = 2 k = 4 l = 1\n",
      "i = 0 j = 2 k = 4 l = 2\n",
      "i = 0 j = 2 k = 4 l = 3\n",
      "i = 0 j = 2 k = 4 l = 4\n",
      "i = 0 j = 3 k = 0 l = 0\n",
      "i = 0 j = 3 k = 0 l = 1\n",
      "i = 0 j = 3 k = 0 l = 2\n",
      "i = 0 j = 3 k = 0 l = 3\n",
      "i = 0 j = 3 k = 0 l = 4\n",
      "i = 0 j = 3 k = 1 l = 0\n",
      "i = 0 j = 3 k = 1 l = 1\n",
      "i = 0 j = 3 k = 1 l = 2\n",
      "i = 0 j = 3 k = 1 l = 3\n",
      "i = 0 j = 3 k = 1 l = 4\n",
      "i = 0 j = 3 k = 2 l = 0\n",
      "i = 0 j = 3 k = 2 l = 1\n",
      "i = 0 j = 3 k = 2 l = 2\n",
      "i = 0 j = 3 k = 2 l = 3\n",
      "i = 0 j = 3 k = 2 l = 4\n",
      "i = 0 j = 3 k = 3 l = 0\n",
      "i = 0 j = 3 k = 3 l = 1\n",
      "i = 0 j = 3 k = 3 l = 2\n",
      "i = 0 j = 3 k = 3 l = 3\n",
      "i = 0 j = 3 k = 3 l = 4\n",
      "i = 0 j = 3 k = 4 l = 0\n",
      "i = 0 j = 3 k = 4 l = 1\n",
      "i = 0 j = 3 k = 4 l = 2\n",
      "i = 0 j = 3 k = 4 l = 3\n",
      "i = 0 j = 3 k = 4 l = 4\n",
      "i = 0 j = 4 k = 0 l = 0\n",
      "i = 0 j = 4 k = 0 l = 1\n",
      "i = 0 j = 4 k = 0 l = 2\n",
      "i = 0 j = 4 k = 0 l = 3\n",
      "i = 0 j = 4 k = 0 l = 4\n",
      "i = 0 j = 4 k = 1 l = 0\n",
      "i = 0 j = 4 k = 1 l = 1\n",
      "i = 0 j = 4 k = 1 l = 2\n",
      "i = 0 j = 4 k = 1 l = 3\n",
      "i = 0 j = 4 k = 1 l = 4\n",
      "i = 0 j = 4 k = 2 l = 0\n",
      "i = 0 j = 4 k = 2 l = 1\n",
      "i = 0 j = 4 k = 2 l = 2\n",
      "i = 0 j = 4 k = 2 l = 3\n",
      "i = 0 j = 4 k = 2 l = 4\n",
      "i = 0 j = 4 k = 3 l = 0\n",
      "i = 0 j = 4 k = 3 l = 1\n",
      "i = 0 j = 4 k = 3 l = 2\n",
      "i = 0 j = 4 k = 3 l = 3\n",
      "i = 0 j = 4 k = 3 l = 4\n",
      "i = 0 j = 4 k = 4 l = 0\n",
      "i = 0 j = 4 k = 4 l = 1\n",
      "i = 0 j = 4 k = 4 l = 2\n",
      "i = 0 j = 4 k = 4 l = 3\n",
      "i = 0 j = 4 k = 4 l = 4\n",
      "i = 1 j = 0 k = 0 l = 0\n",
      "i = 1 j = 0 k = 0 l = 1\n",
      "i = 1 j = 0 k = 0 l = 2\n",
      "i = 1 j = 0 k = 0 l = 3\n",
      "i = 1 j = 0 k = 0 l = 4\n",
      "i = 1 j = 0 k = 1 l = 0\n",
      "i = 1 j = 0 k = 1 l = 1\n",
      "i = 1 j = 0 k = 1 l = 2\n",
      "i = 1 j = 0 k = 1 l = 3\n",
      "i = 1 j = 0 k = 1 l = 4\n",
      "i = 1 j = 0 k = 2 l = 0\n",
      "i = 1 j = 0 k = 2 l = 1\n",
      "i = 1 j = 0 k = 2 l = 2\n",
      "i = 1 j = 0 k = 2 l = 3\n",
      "i = 1 j = 0 k = 2 l = 4\n",
      "i = 1 j = 0 k = 3 l = 0\n",
      "i = 1 j = 0 k = 3 l = 1\n",
      "i = 1 j = 0 k = 3 l = 2\n",
      "i = 1 j = 0 k = 3 l = 3\n",
      "i = 1 j = 0 k = 3 l = 4\n",
      "i = 1 j = 0 k = 4 l = 0\n",
      "i = 1 j = 0 k = 4 l = 1\n",
      "i = 1 j = 0 k = 4 l = 2\n",
      "i = 1 j = 0 k = 4 l = 3\n",
      "i = 1 j = 0 k = 4 l = 4\n",
      "i = 1 j = 1 k = 0 l = 0\n",
      "i = 1 j = 1 k = 0 l = 1\n",
      "i = 1 j = 1 k = 0 l = 2\n",
      "i = 1 j = 1 k = 0 l = 3\n",
      "i = 1 j = 1 k = 0 l = 4\n",
      "i = 1 j = 1 k = 1 l = 0\n",
      "i = 1 j = 1 k = 1 l = 1\n",
      "i = 1 j = 1 k = 1 l = 2\n",
      "i = 1 j = 1 k = 1 l = 3\n",
      "i = 1 j = 1 k = 1 l = 4\n",
      "i = 1 j = 1 k = 2 l = 0\n",
      "i = 1 j = 1 k = 2 l = 1\n",
      "i = 1 j = 1 k = 2 l = 2\n",
      "i = 1 j = 1 k = 2 l = 3\n",
      "i = 1 j = 1 k = 2 l = 4\n",
      "i = 1 j = 1 k = 3 l = 0\n",
      "i = 1 j = 1 k = 3 l = 1\n",
      "i = 1 j = 1 k = 3 l = 2\n",
      "i = 1 j = 1 k = 3 l = 3\n",
      "i = 1 j = 1 k = 3 l = 4\n",
      "i = 1 j = 1 k = 4 l = 0\n",
      "i = 1 j = 1 k = 4 l = 1\n",
      "i = 1 j = 1 k = 4 l = 2\n",
      "i = 1 j = 1 k = 4 l = 3\n",
      "i = 1 j = 1 k = 4 l = 4\n",
      "i = 1 j = 2 k = 0 l = 0\n",
      "i = 1 j = 2 k = 0 l = 1\n",
      "i = 1 j = 2 k = 0 l = 2\n",
      "i = 1 j = 2 k = 0 l = 3\n",
      "i = 1 j = 2 k = 0 l = 4\n",
      "i = 1 j = 2 k = 1 l = 0\n",
      "i = 1 j = 2 k = 1 l = 1\n",
      "i = 1 j = 2 k = 1 l = 2\n",
      "i = 1 j = 2 k = 1 l = 3\n",
      "i = 1 j = 2 k = 1 l = 4\n",
      "i = 1 j = 2 k = 2 l = 0\n",
      "i = 1 j = 2 k = 2 l = 1\n",
      "i = 1 j = 2 k = 2 l = 2\n",
      "i = 1 j = 2 k = 2 l = 3\n",
      "i = 1 j = 2 k = 2 l = 4\n",
      "i = 1 j = 2 k = 3 l = 0\n",
      "i = 1 j = 2 k = 3 l = 1\n",
      "i = 1 j = 2 k = 3 l = 2\n",
      "i = 1 j = 2 k = 3 l = 3\n",
      "i = 1 j = 2 k = 3 l = 4\n",
      "i = 1 j = 2 k = 4 l = 0\n",
      "i = 1 j = 2 k = 4 l = 1\n",
      "i = 1 j = 2 k = 4 l = 2\n",
      "i = 1 j = 2 k = 4 l = 3\n",
      "i = 1 j = 2 k = 4 l = 4\n",
      "i = 1 j = 3 k = 0 l = 0\n",
      "i = 1 j = 3 k = 0 l = 1\n",
      "i = 1 j = 3 k = 0 l = 2\n",
      "i = 1 j = 3 k = 0 l = 3\n",
      "i = 1 j = 3 k = 0 l = 4\n",
      "i = 1 j = 3 k = 1 l = 0\n",
      "i = 1 j = 3 k = 1 l = 1\n",
      "i = 1 j = 3 k = 1 l = 2\n",
      "i = 1 j = 3 k = 1 l = 3\n",
      "i = 1 j = 3 k = 1 l = 4\n",
      "i = 1 j = 3 k = 2 l = 0\n",
      "i = 1 j = 3 k = 2 l = 1\n",
      "i = 1 j = 3 k = 2 l = 2\n",
      "i = 1 j = 3 k = 2 l = 3\n",
      "i = 1 j = 3 k = 2 l = 4\n",
      "i = 1 j = 3 k = 3 l = 0\n",
      "i = 1 j = 3 k = 3 l = 1\n",
      "i = 1 j = 3 k = 3 l = 2\n",
      "i = 1 j = 3 k = 3 l = 3\n",
      "i = 1 j = 3 k = 3 l = 4\n",
      "i = 1 j = 3 k = 4 l = 0\n",
      "i = 1 j = 3 k = 4 l = 1\n",
      "i = 1 j = 3 k = 4 l = 2\n",
      "i = 1 j = 3 k = 4 l = 3\n",
      "i = 1 j = 3 k = 4 l = 4\n",
      "i = 1 j = 4 k = 0 l = 0\n",
      "i = 1 j = 4 k = 0 l = 1\n",
      "i = 1 j = 4 k = 0 l = 2\n",
      "i = 1 j = 4 k = 0 l = 3\n",
      "i = 1 j = 4 k = 0 l = 4\n",
      "i = 1 j = 4 k = 1 l = 0\n",
      "i = 1 j = 4 k = 1 l = 1\n",
      "i = 1 j = 4 k = 1 l = 2\n",
      "i = 1 j = 4 k = 1 l = 3\n",
      "i = 1 j = 4 k = 1 l = 4\n",
      "i = 1 j = 4 k = 2 l = 0\n",
      "i = 1 j = 4 k = 2 l = 1\n",
      "i = 1 j = 4 k = 2 l = 2\n",
      "i = 1 j = 4 k = 2 l = 3\n",
      "i = 1 j = 4 k = 2 l = 4\n",
      "i = 1 j = 4 k = 3 l = 0\n",
      "i = 1 j = 4 k = 3 l = 1\n",
      "i = 1 j = 4 k = 3 l = 2\n",
      "i = 1 j = 4 k = 3 l = 3\n",
      "i = 1 j = 4 k = 3 l = 4\n",
      "i = 1 j = 4 k = 4 l = 0\n",
      "i = 1 j = 4 k = 4 l = 1\n",
      "i = 1 j = 4 k = 4 l = 2\n",
      "i = 1 j = 4 k = 4 l = 3\n",
      "i = 1 j = 4 k = 4 l = 4\n",
      "i = 2 j = 0 k = 0 l = 0\n",
      "i = 2 j = 0 k = 0 l = 1\n",
      "i = 2 j = 0 k = 0 l = 2\n",
      "i = 2 j = 0 k = 0 l = 3\n",
      "i = 2 j = 0 k = 0 l = 4\n",
      "i = 2 j = 0 k = 1 l = 0\n",
      "i = 2 j = 0 k = 1 l = 1\n",
      "i = 2 j = 0 k = 1 l = 2\n",
      "i = 2 j = 0 k = 1 l = 3\n",
      "i = 2 j = 0 k = 1 l = 4\n",
      "i = 2 j = 0 k = 2 l = 0\n",
      "i = 2 j = 0 k = 2 l = 1\n",
      "i = 2 j = 0 k = 2 l = 2\n",
      "i = 2 j = 0 k = 2 l = 3\n",
      "i = 2 j = 0 k = 2 l = 4\n",
      "i = 2 j = 0 k = 3 l = 0\n",
      "i = 2 j = 0 k = 3 l = 1\n",
      "i = 2 j = 0 k = 3 l = 2\n",
      "i = 2 j = 0 k = 3 l = 3\n",
      "i = 2 j = 0 k = 3 l = 4\n",
      "i = 2 j = 0 k = 4 l = 0\n",
      "i = 2 j = 0 k = 4 l = 1\n",
      "i = 2 j = 0 k = 4 l = 2\n",
      "i = 2 j = 0 k = 4 l = 3\n",
      "i = 2 j = 0 k = 4 l = 4\n",
      "i = 2 j = 1 k = 0 l = 0\n",
      "i = 2 j = 1 k = 0 l = 1\n",
      "i = 2 j = 1 k = 0 l = 2\n",
      "i = 2 j = 1 k = 0 l = 3\n",
      "i = 2 j = 1 k = 0 l = 4\n",
      "i = 2 j = 1 k = 1 l = 0\n",
      "i = 2 j = 1 k = 1 l = 1\n",
      "i = 2 j = 1 k = 1 l = 2\n",
      "i = 2 j = 1 k = 1 l = 3\n",
      "i = 2 j = 1 k = 1 l = 4\n",
      "i = 2 j = 1 k = 2 l = 0\n",
      "i = 2 j = 1 k = 2 l = 1\n",
      "i = 2 j = 1 k = 2 l = 2\n",
      "i = 2 j = 1 k = 2 l = 3\n",
      "i = 2 j = 1 k = 2 l = 4\n",
      "i = 2 j = 1 k = 3 l = 0\n",
      "i = 2 j = 1 k = 3 l = 1\n",
      "i = 2 j = 1 k = 3 l = 2\n",
      "i = 2 j = 1 k = 3 l = 3\n",
      "i = 2 j = 1 k = 3 l = 4\n",
      "i = 2 j = 1 k = 4 l = 0\n",
      "i = 2 j = 1 k = 4 l = 1\n",
      "i = 2 j = 1 k = 4 l = 2\n",
      "i = 2 j = 1 k = 4 l = 3\n",
      "i = 2 j = 1 k = 4 l = 4\n",
      "i = 2 j = 2 k = 0 l = 0\n",
      "i = 2 j = 2 k = 0 l = 1\n",
      "i = 2 j = 2 k = 0 l = 2\n",
      "i = 2 j = 2 k = 0 l = 3\n",
      "i = 2 j = 2 k = 0 l = 4\n",
      "i = 2 j = 2 k = 1 l = 0\n",
      "i = 2 j = 2 k = 1 l = 1\n",
      "i = 2 j = 2 k = 1 l = 2\n",
      "i = 2 j = 2 k = 1 l = 3\n",
      "i = 2 j = 2 k = 1 l = 4\n",
      "i = 2 j = 2 k = 2 l = 0\n",
      "i = 2 j = 2 k = 2 l = 1\n",
      "i = 2 j = 2 k = 2 l = 2\n",
      "i = 2 j = 2 k = 2 l = 3\n",
      "i = 2 j = 2 k = 2 l = 4\n",
      "i = 2 j = 2 k = 3 l = 0\n",
      "i = 2 j = 2 k = 3 l = 1\n",
      "i = 2 j = 2 k = 3 l = 2\n",
      "i = 2 j = 2 k = 3 l = 3\n",
      "i = 2 j = 2 k = 3 l = 4\n",
      "i = 2 j = 2 k = 4 l = 0\n",
      "i = 2 j = 2 k = 4 l = 1\n",
      "i = 2 j = 2 k = 4 l = 2\n",
      "i = 2 j = 2 k = 4 l = 3\n",
      "i = 2 j = 2 k = 4 l = 4\n",
      "i = 2 j = 3 k = 0 l = 0\n",
      "i = 2 j = 3 k = 0 l = 1\n",
      "i = 2 j = 3 k = 0 l = 2\n",
      "i = 2 j = 3 k = 0 l = 3\n",
      "i = 2 j = 3 k = 0 l = 4\n",
      "i = 2 j = 3 k = 1 l = 0\n",
      "i = 2 j = 3 k = 1 l = 1\n",
      "i = 2 j = 3 k = 1 l = 2\n",
      "i = 2 j = 3 k = 1 l = 3\n",
      "i = 2 j = 3 k = 1 l = 4\n",
      "i = 2 j = 3 k = 2 l = 0\n",
      "i = 2 j = 3 k = 2 l = 1\n",
      "i = 2 j = 3 k = 2 l = 2\n",
      "i = 2 j = 3 k = 2 l = 3\n",
      "i = 2 j = 3 k = 2 l = 4\n",
      "i = 2 j = 3 k = 3 l = 0\n",
      "i = 2 j = 3 k = 3 l = 1\n",
      "i = 2 j = 3 k = 3 l = 2\n",
      "i = 2 j = 3 k = 3 l = 3\n",
      "i = 2 j = 3 k = 3 l = 4\n",
      "i = 2 j = 3 k = 4 l = 0\n",
      "i = 2 j = 3 k = 4 l = 1\n",
      "i = 2 j = 3 k = 4 l = 2\n",
      "i = 2 j = 3 k = 4 l = 3\n",
      "i = 2 j = 3 k = 4 l = 4\n",
      "i = 2 j = 4 k = 0 l = 0\n",
      "i = 2 j = 4 k = 0 l = 1\n",
      "i = 2 j = 4 k = 0 l = 2\n",
      "i = 2 j = 4 k = 0 l = 3\n",
      "i = 2 j = 4 k = 0 l = 4\n",
      "i = 2 j = 4 k = 1 l = 0\n",
      "i = 2 j = 4 k = 1 l = 1\n",
      "i = 2 j = 4 k = 1 l = 2\n",
      "i = 2 j = 4 k = 1 l = 3\n",
      "i = 2 j = 4 k = 1 l = 4\n",
      "i = 2 j = 4 k = 2 l = 0\n",
      "i = 2 j = 4 k = 2 l = 1\n",
      "i = 2 j = 4 k = 2 l = 2\n",
      "i = 2 j = 4 k = 2 l = 3\n",
      "i = 2 j = 4 k = 2 l = 4\n",
      "i = 2 j = 4 k = 3 l = 0\n",
      "i = 2 j = 4 k = 3 l = 1\n",
      "i = 2 j = 4 k = 3 l = 2\n",
      "i = 2 j = 4 k = 3 l = 3\n",
      "i = 2 j = 4 k = 3 l = 4\n",
      "i = 2 j = 4 k = 4 l = 0\n",
      "i = 2 j = 4 k = 4 l = 1\n",
      "i = 2 j = 4 k = 4 l = 2\n",
      "i = 2 j = 4 k = 4 l = 3\n",
      "i = 2 j = 4 k = 4 l = 4\n",
      "i = 3 j = 0 k = 0 l = 0\n",
      "i = 3 j = 0 k = 0 l = 1\n",
      "i = 3 j = 0 k = 0 l = 2\n",
      "i = 3 j = 0 k = 0 l = 3\n",
      "i = 3 j = 0 k = 0 l = 4\n",
      "i = 3 j = 0 k = 1 l = 0\n",
      "i = 3 j = 0 k = 1 l = 1\n",
      "i = 3 j = 0 k = 1 l = 2\n",
      "i = 3 j = 0 k = 1 l = 3\n",
      "i = 3 j = 0 k = 1 l = 4\n",
      "i = 3 j = 0 k = 2 l = 0\n",
      "i = 3 j = 0 k = 2 l = 1\n",
      "i = 3 j = 0 k = 2 l = 2\n",
      "i = 3 j = 0 k = 2 l = 3\n",
      "i = 3 j = 0 k = 2 l = 4\n",
      "i = 3 j = 0 k = 3 l = 0\n",
      "i = 3 j = 0 k = 3 l = 1\n",
      "i = 3 j = 0 k = 3 l = 2\n",
      "i = 3 j = 0 k = 3 l = 3\n",
      "i = 3 j = 0 k = 3 l = 4\n",
      "i = 3 j = 0 k = 4 l = 0\n",
      "i = 3 j = 0 k = 4 l = 1\n",
      "i = 3 j = 0 k = 4 l = 2\n",
      "i = 3 j = 0 k = 4 l = 3\n",
      "i = 3 j = 0 k = 4 l = 4\n",
      "i = 3 j = 1 k = 0 l = 0\n",
      "i = 3 j = 1 k = 0 l = 1\n",
      "i = 3 j = 1 k = 0 l = 2\n",
      "i = 3 j = 1 k = 0 l = 3\n",
      "i = 3 j = 1 k = 0 l = 4\n",
      "i = 3 j = 1 k = 1 l = 0\n",
      "i = 3 j = 1 k = 1 l = 1\n",
      "i = 3 j = 1 k = 1 l = 2\n",
      "i = 3 j = 1 k = 1 l = 3\n",
      "i = 3 j = 1 k = 1 l = 4\n",
      "i = 3 j = 1 k = 2 l = 0\n",
      "i = 3 j = 1 k = 2 l = 1\n",
      "i = 3 j = 1 k = 2 l = 2\n",
      "i = 3 j = 1 k = 2 l = 3\n",
      "i = 3 j = 1 k = 2 l = 4\n",
      "i = 3 j = 1 k = 3 l = 0\n",
      "i = 3 j = 1 k = 3 l = 1\n",
      "i = 3 j = 1 k = 3 l = 2\n",
      "i = 3 j = 1 k = 3 l = 3\n",
      "i = 3 j = 1 k = 3 l = 4\n",
      "i = 3 j = 1 k = 4 l = 0\n",
      "i = 3 j = 1 k = 4 l = 1\n",
      "i = 3 j = 1 k = 4 l = 2\n",
      "i = 3 j = 1 k = 4 l = 3\n",
      "i = 3 j = 1 k = 4 l = 4\n",
      "i = 3 j = 2 k = 0 l = 0\n",
      "i = 3 j = 2 k = 0 l = 1\n",
      "i = 3 j = 2 k = 0 l = 2\n",
      "i = 3 j = 2 k = 0 l = 3\n",
      "i = 3 j = 2 k = 0 l = 4\n",
      "i = 3 j = 2 k = 1 l = 0\n",
      "i = 3 j = 2 k = 1 l = 1\n",
      "i = 3 j = 2 k = 1 l = 2\n",
      "i = 3 j = 2 k = 1 l = 3\n",
      "i = 3 j = 2 k = 1 l = 4\n",
      "i = 3 j = 2 k = 2 l = 0\n",
      "i = 3 j = 2 k = 2 l = 1\n",
      "i = 3 j = 2 k = 2 l = 2\n",
      "i = 3 j = 2 k = 2 l = 3\n",
      "i = 3 j = 2 k = 2 l = 4\n",
      "i = 3 j = 2 k = 3 l = 0\n",
      "i = 3 j = 2 k = 3 l = 1\n",
      "i = 3 j = 2 k = 3 l = 2\n",
      "i = 3 j = 2 k = 3 l = 3\n",
      "i = 3 j = 2 k = 3 l = 4\n",
      "i = 3 j = 2 k = 4 l = 0\n",
      "i = 3 j = 2 k = 4 l = 1\n",
      "i = 3 j = 2 k = 4 l = 2\n",
      "i = 3 j = 2 k = 4 l = 3\n",
      "i = 3 j = 2 k = 4 l = 4\n",
      "i = 3 j = 3 k = 0 l = 0\n",
      "i = 3 j = 3 k = 0 l = 1\n",
      "i = 3 j = 3 k = 0 l = 2\n",
      "i = 3 j = 3 k = 0 l = 3\n",
      "i = 3 j = 3 k = 0 l = 4\n",
      "i = 3 j = 3 k = 1 l = 0\n",
      "i = 3 j = 3 k = 1 l = 1\n",
      "i = 3 j = 3 k = 1 l = 2\n",
      "i = 3 j = 3 k = 1 l = 3\n",
      "i = 3 j = 3 k = 1 l = 4\n",
      "i = 3 j = 3 k = 2 l = 0\n",
      "i = 3 j = 3 k = 2 l = 1\n",
      "i = 3 j = 3 k = 2 l = 2\n",
      "i = 3 j = 3 k = 2 l = 3\n",
      "i = 3 j = 3 k = 2 l = 4\n",
      "i = 3 j = 3 k = 3 l = 0\n",
      "i = 3 j = 3 k = 3 l = 1\n",
      "i = 3 j = 3 k = 3 l = 2\n",
      "i = 3 j = 3 k = 3 l = 3\n",
      "i = 3 j = 3 k = 3 l = 4\n",
      "i = 3 j = 3 k = 4 l = 0\n",
      "i = 3 j = 3 k = 4 l = 1\n",
      "i = 3 j = 3 k = 4 l = 2\n",
      "i = 3 j = 3 k = 4 l = 3\n",
      "i = 3 j = 3 k = 4 l = 4\n",
      "i = 3 j = 4 k = 0 l = 0\n",
      "i = 3 j = 4 k = 0 l = 1\n",
      "i = 3 j = 4 k = 0 l = 2\n",
      "i = 3 j = 4 k = 0 l = 3\n",
      "i = 3 j = 4 k = 0 l = 4\n",
      "i = 3 j = 4 k = 1 l = 0\n",
      "i = 3 j = 4 k = 1 l = 1\n",
      "i = 3 j = 4 k = 1 l = 2\n",
      "i = 3 j = 4 k = 1 l = 3\n",
      "i = 3 j = 4 k = 1 l = 4\n",
      "i = 3 j = 4 k = 2 l = 0\n",
      "i = 3 j = 4 k = 2 l = 1\n",
      "i = 3 j = 4 k = 2 l = 2\n",
      "i = 3 j = 4 k = 2 l = 3\n",
      "i = 3 j = 4 k = 2 l = 4\n",
      "i = 3 j = 4 k = 3 l = 0\n",
      "i = 3 j = 4 k = 3 l = 1\n",
      "i = 3 j = 4 k = 3 l = 2\n",
      "i = 3 j = 4 k = 3 l = 3\n",
      "i = 3 j = 4 k = 3 l = 4\n",
      "i = 3 j = 4 k = 4 l = 0\n",
      "i = 3 j = 4 k = 4 l = 1\n",
      "i = 3 j = 4 k = 4 l = 2\n",
      "i = 3 j = 4 k = 4 l = 3\n",
      "i = 3 j = 4 k = 4 l = 4\n",
      "i = 4 j = 0 k = 0 l = 0\n",
      "i = 4 j = 0 k = 0 l = 1\n",
      "i = 4 j = 0 k = 0 l = 2\n",
      "i = 4 j = 0 k = 0 l = 3\n",
      "i = 4 j = 0 k = 0 l = 4\n",
      "i = 4 j = 0 k = 1 l = 0\n",
      "i = 4 j = 0 k = 1 l = 1\n",
      "i = 4 j = 0 k = 1 l = 2\n",
      "i = 4 j = 0 k = 1 l = 3\n",
      "i = 4 j = 0 k = 1 l = 4\n",
      "i = 4 j = 0 k = 2 l = 0\n",
      "i = 4 j = 0 k = 2 l = 1\n",
      "i = 4 j = 0 k = 2 l = 2\n",
      "i = 4 j = 0 k = 2 l = 3\n",
      "i = 4 j = 0 k = 2 l = 4\n",
      "i = 4 j = 0 k = 3 l = 0\n",
      "i = 4 j = 0 k = 3 l = 1\n",
      "i = 4 j = 0 k = 3 l = 2\n",
      "i = 4 j = 0 k = 3 l = 3\n",
      "i = 4 j = 0 k = 3 l = 4\n",
      "i = 4 j = 0 k = 4 l = 0\n",
      "i = 4 j = 0 k = 4 l = 1\n",
      "i = 4 j = 0 k = 4 l = 2\n",
      "i = 4 j = 0 k = 4 l = 3\n",
      "i = 4 j = 0 k = 4 l = 4\n",
      "i = 4 j = 1 k = 0 l = 0\n",
      "i = 4 j = 1 k = 0 l = 1\n",
      "i = 4 j = 1 k = 0 l = 2\n",
      "i = 4 j = 1 k = 0 l = 3\n",
      "i = 4 j = 1 k = 0 l = 4\n",
      "i = 4 j = 1 k = 1 l = 0\n",
      "i = 4 j = 1 k = 1 l = 1\n",
      "i = 4 j = 1 k = 1 l = 2\n",
      "i = 4 j = 1 k = 1 l = 3\n",
      "i = 4 j = 1 k = 1 l = 4\n",
      "i = 4 j = 1 k = 2 l = 0\n",
      "i = 4 j = 1 k = 2 l = 1\n",
      "i = 4 j = 1 k = 2 l = 2\n",
      "i = 4 j = 1 k = 2 l = 3\n",
      "i = 4 j = 1 k = 2 l = 4\n",
      "i = 4 j = 1 k = 3 l = 0\n",
      "i = 4 j = 1 k = 3 l = 1\n",
      "i = 4 j = 1 k = 3 l = 2\n",
      "i = 4 j = 1 k = 3 l = 3\n",
      "i = 4 j = 1 k = 3 l = 4\n",
      "i = 4 j = 1 k = 4 l = 0\n",
      "i = 4 j = 1 k = 4 l = 1\n",
      "i = 4 j = 1 k = 4 l = 2\n",
      "i = 4 j = 1 k = 4 l = 3\n",
      "i = 4 j = 1 k = 4 l = 4\n",
      "i = 4 j = 2 k = 0 l = 0\n",
      "i = 4 j = 2 k = 0 l = 1\n",
      "i = 4 j = 2 k = 0 l = 2\n",
      "i = 4 j = 2 k = 0 l = 3\n",
      "i = 4 j = 2 k = 0 l = 4\n",
      "i = 4 j = 2 k = 1 l = 0\n",
      "i = 4 j = 2 k = 1 l = 1\n",
      "i = 4 j = 2 k = 1 l = 2\n",
      "i = 4 j = 2 k = 1 l = 3\n",
      "i = 4 j = 2 k = 1 l = 4\n",
      "i = 4 j = 2 k = 2 l = 0\n",
      "i = 4 j = 2 k = 2 l = 1\n",
      "i = 4 j = 2 k = 2 l = 2\n",
      "i = 4 j = 2 k = 2 l = 3\n",
      "i = 4 j = 2 k = 2 l = 4\n",
      "i = 4 j = 2 k = 3 l = 0\n",
      "i = 4 j = 2 k = 3 l = 1\n",
      "i = 4 j = 2 k = 3 l = 2\n"
     ]
    },
    {
     "name": "stdout",
     "output_type": "stream",
     "text": [
      "i = 4 j = 2 k = 3 l = 3\n",
      "i = 4 j = 2 k = 3 l = 4\n",
      "i = 4 j = 2 k = 4 l = 0\n",
      "i = 4 j = 2 k = 4 l = 1\n",
      "i = 4 j = 2 k = 4 l = 2\n",
      "i = 4 j = 2 k = 4 l = 3\n",
      "i = 4 j = 2 k = 4 l = 4\n",
      "i = 4 j = 3 k = 0 l = 0\n",
      "i = 4 j = 3 k = 0 l = 1\n",
      "i = 4 j = 3 k = 0 l = 2\n",
      "i = 4 j = 3 k = 0 l = 3\n",
      "i = 4 j = 3 k = 0 l = 4\n",
      "i = 4 j = 3 k = 1 l = 0\n",
      "i = 4 j = 3 k = 1 l = 1\n",
      "i = 4 j = 3 k = 1 l = 2\n",
      "i = 4 j = 3 k = 1 l = 3\n",
      "i = 4 j = 3 k = 1 l = 4\n",
      "i = 4 j = 3 k = 2 l = 0\n",
      "i = 4 j = 3 k = 2 l = 1\n",
      "i = 4 j = 3 k = 2 l = 2\n",
      "i = 4 j = 3 k = 2 l = 3\n",
      "i = 4 j = 3 k = 2 l = 4\n",
      "i = 4 j = 3 k = 3 l = 0\n",
      "i = 4 j = 3 k = 3 l = 1\n",
      "i = 4 j = 3 k = 3 l = 2\n",
      "i = 4 j = 3 k = 3 l = 3\n",
      "i = 4 j = 3 k = 3 l = 4\n",
      "i = 4 j = 3 k = 4 l = 0\n",
      "i = 4 j = 3 k = 4 l = 1\n",
      "i = 4 j = 3 k = 4 l = 2\n",
      "i = 4 j = 3 k = 4 l = 3\n",
      "i = 4 j = 3 k = 4 l = 4\n",
      "i = 4 j = 4 k = 0 l = 0\n",
      "i = 4 j = 4 k = 0 l = 1\n",
      "i = 4 j = 4 k = 0 l = 2\n",
      "i = 4 j = 4 k = 0 l = 3\n",
      "i = 4 j = 4 k = 0 l = 4\n",
      "i = 4 j = 4 k = 1 l = 0\n",
      "i = 4 j = 4 k = 1 l = 1\n",
      "i = 4 j = 4 k = 1 l = 2\n",
      "i = 4 j = 4 k = 1 l = 3\n",
      "i = 4 j = 4 k = 1 l = 4\n",
      "i = 4 j = 4 k = 2 l = 0\n",
      "i = 4 j = 4 k = 2 l = 1\n",
      "i = 4 j = 4 k = 2 l = 2\n",
      "i = 4 j = 4 k = 2 l = 3\n",
      "i = 4 j = 4 k = 2 l = 4\n",
      "i = 4 j = 4 k = 3 l = 0\n",
      "i = 4 j = 4 k = 3 l = 1\n",
      "i = 4 j = 4 k = 3 l = 2\n",
      "i = 4 j = 4 k = 3 l = 3\n",
      "i = 4 j = 4 k = 3 l = 4\n",
      "i = 4 j = 4 k = 4 l = 0\n",
      "i = 4 j = 4 k = 4 l = 1\n",
      "i = 4 j = 4 k = 4 l = 2\n",
      "i = 4 j = 4 k = 4 l = 3\n",
      "i = 4 j = 4 k = 4 l = 4\n"
     ]
    }
   ],
   "source": [
    "#Quadruple loop below\n",
    "for i in range(5):\n",
    "    for j in range(5):\n",
    "        for k in range(5):\n",
    "            for l in range(5):\n",
    "                print(f'i = {i}', f\"j = {j}\", f'k = {k}',f\"l = {l}\")"
   ]
  },
  {
   "cell_type": "markdown",
   "metadata": {},
   "source": [
    "### While Loops"
   ]
  },
  {
   "cell_type": "code",
   "execution_count": 86,
   "metadata": {},
   "outputs": [
    {
     "name": "stdout",
     "output_type": "stream",
     "text": [
      "100\n",
      "99\n",
      "98\n",
      "97\n",
      "96\n",
      "95\n",
      "94\n",
      "93\n",
      "92\n",
      "91\n",
      "90\n",
      "89\n",
      "88\n",
      "87\n",
      "86\n",
      "85\n",
      "84\n",
      "83\n",
      "82\n",
      "81\n",
      "80\n",
      "79\n",
      "78\n",
      "77\n",
      "76\n",
      "75\n",
      "74\n",
      "73\n",
      "72\n",
      "71\n",
      "70\n",
      "69\n",
      "68\n",
      "67\n",
      "66\n",
      "65\n",
      "64\n",
      "63\n",
      "62\n",
      "61\n",
      "60\n",
      "59\n",
      "58\n",
      "57\n",
      "56\n",
      "55\n",
      "54\n",
      "53\n",
      "52\n",
      "51\n",
      "50\n",
      "49\n",
      "48\n",
      "47\n",
      "46\n",
      "45\n",
      "44\n",
      "43\n",
      "42\n",
      "41\n",
      "40\n",
      "39\n",
      "38\n",
      "37\n",
      "36\n",
      "35\n",
      "34\n",
      "33\n",
      "32\n",
      "31\n",
      "30\n",
      "29\n",
      "28\n",
      "27\n",
      "26\n",
      "25\n",
      "24\n",
      "23\n",
      "22\n",
      "21\n",
      "20\n",
      "19\n",
      "18\n",
      "17\n",
      "16\n",
      "15\n",
      "14\n",
      "13\n",
      "12\n",
      "11\n",
      "10\n",
      "9\n",
      "8\n",
      "7\n",
      "6\n",
      "5\n",
      "4\n",
      "3\n",
      "2\n",
      "1\n"
     ]
    }
   ],
   "source": [
    "#While keyword, followed by conditional statement\n",
    "#whole thing is tied to condition remaining true\n",
    "\n",
    "num = 100\n",
    "\n",
    "while num > 0:\n",
    "    print(num)\n",
    "    num -= 1"
   ]
  },
  {
   "cell_type": "markdown",
   "metadata": {},
   "source": [
    "##### Looping 'While True'"
   ]
  },
  {
   "cell_type": "code",
   "execution_count": null,
   "metadata": {},
   "outputs": [],
   "source": [
    "while True"
   ]
  },
  {
   "cell_type": "markdown",
   "metadata": {},
   "source": [
    "##### While & For Loops Used Together"
   ]
  },
  {
   "cell_type": "code",
   "execution_count": 2,
   "metadata": {
    "scrolled": true
   },
   "outputs": [
    {
     "name": "stdout",
     "output_type": "stream",
     "text": [
      "\n",
      "\n",
      "While loop iteration: 0\n",
      "For loop iteration: 0\n",
      "For loop iteration: 1\n",
      "\n",
      "\n",
      "While loop iteration: 1\n",
      "For loop iteration: 0\n",
      "For loop iteration: 1\n",
      "\n",
      "\n",
      "While loop iteration: 2\n",
      "For loop iteration: 0\n",
      "For loop iteration: 1\n",
      "\n",
      "\n",
      "While loop iteration: 3\n",
      "For loop iteration: 0\n",
      "For loop iteration: 1\n",
      "\n",
      "\n",
      "While loop iteration: 4\n",
      "For loop iteration: 0\n",
      "For loop iteration: 1\n"
     ]
    }
   ],
   "source": [
    "num = 0\n",
    "\n",
    "while num < 5:\n",
    "    print(\"\\n\\nWhile loop iteration:\", num)\n",
    "    \n",
    "    for i in range(2):\n",
    "        print(\"For loop iteration:\", i)\n",
    "        \n",
    "    num += 1"
   ]
  },
  {
   "cell_type": "markdown",
   "metadata": {},
   "source": []
  },
  {
   "cell_type": "markdown",
   "metadata": {},
   "source": [
    "##### range()"
   ]
  },
  {
   "cell_type": "code",
   "execution_count": 7,
   "metadata": {},
   "outputs": [
    {
     "name": "stdout",
     "output_type": "stream",
     "text": [
      "2\n",
      "4\n",
      "6\n",
      "8\n",
      "10\n",
      "12\n",
      "14\n",
      "16\n",
      "18\n",
      "20\n",
      "22\n",
      "24\n",
      "26\n",
      "28\n"
     ]
    }
   ],
   "source": [
    "#start, Stop, Step\n",
    "#goes up to stop, but does not include it.\n",
    "\n",
    "for i in range(2,30,2):\n",
    "    print(i)"
   ]
  },
  {
   "cell_type": "markdown",
   "metadata": {},
   "source": [
    "##### len()"
   ]
  },
  {
   "cell_type": "code",
   "execution_count": null,
   "metadata": {},
   "outputs": [],
   "source": []
  },
  {
   "cell_type": "markdown",
   "metadata": {},
   "source": [
    "##### help()"
   ]
  },
  {
   "cell_type": "code",
   "execution_count": null,
   "metadata": {},
   "outputs": [],
   "source": []
  },
  {
   "cell_type": "markdown",
   "metadata": {},
   "source": [
    "##### isinstance()"
   ]
  },
  {
   "cell_type": "code",
   "execution_count": null,
   "metadata": {},
   "outputs": [],
   "source": []
  },
  {
   "cell_type": "markdown",
   "metadata": {},
   "source": [
    "##### abs()"
   ]
  },
  {
   "cell_type": "code",
   "execution_count": null,
   "metadata": {},
   "outputs": [],
   "source": []
  },
  {
   "cell_type": "markdown",
   "metadata": {},
   "source": [
    "### Try and Except"
   ]
  },
  {
   "cell_type": "code",
   "execution_count": null,
   "metadata": {},
   "outputs": [],
   "source": []
  },
  {
   "cell_type": "markdown",
   "metadata": {},
   "source": [
    "### Lists"
   ]
  },
  {
   "cell_type": "markdown",
   "metadata": {},
   "source": [
    "##### Declaring Lists"
   ]
  },
  {
   "cell_type": "code",
   "execution_count": null,
   "metadata": {},
   "outputs": [],
   "source": []
  },
  {
   "cell_type": "markdown",
   "metadata": {},
   "source": [
    "##### Indexing a List"
   ]
  },
  {
   "cell_type": "code",
   "execution_count": null,
   "metadata": {},
   "outputs": [],
   "source": []
  },
  {
   "cell_type": "markdown",
   "metadata": {},
   "source": [
    "##### .append()"
   ]
  },
  {
   "cell_type": "code",
   "execution_count": null,
   "metadata": {},
   "outputs": [],
   "source": []
  },
  {
   "cell_type": "markdown",
   "metadata": {},
   "source": [
    "##### .insert()"
   ]
  },
  {
   "cell_type": "code",
   "execution_count": null,
   "metadata": {},
   "outputs": [],
   "source": []
  },
  {
   "cell_type": "markdown",
   "metadata": {},
   "source": [
    "##### .pop()"
   ]
  },
  {
   "cell_type": "code",
   "execution_count": null,
   "metadata": {},
   "outputs": [],
   "source": []
  },
  {
   "cell_type": "markdown",
   "metadata": {},
   "source": [
    "\n",
    "##### .remove()"
   ]
  },
  {
   "cell_type": "code",
   "execution_count": null,
   "metadata": {},
   "outputs": [],
   "source": []
  },
  {
   "cell_type": "markdown",
   "metadata": {},
   "source": [
    "##### del()"
   ]
  },
  {
   "cell_type": "code",
   "execution_count": null,
   "metadata": {},
   "outputs": [],
   "source": []
  },
  {
   "cell_type": "markdown",
   "metadata": {},
   "source": [
    "##### Concatenating Two Lists"
   ]
  },
  {
   "cell_type": "code",
   "execution_count": null,
   "metadata": {},
   "outputs": [],
   "source": []
  },
  {
   "cell_type": "markdown",
   "metadata": {},
   "source": [
    "##### Lists Within Lists"
   ]
  },
  {
   "cell_type": "code",
   "execution_count": null,
   "metadata": {},
   "outputs": [],
   "source": []
  },
  {
   "cell_type": "markdown",
   "metadata": {},
   "source": [
    "##### Looping Through Lists"
   ]
  },
  {
   "cell_type": "code",
   "execution_count": null,
   "metadata": {},
   "outputs": [],
   "source": []
  },
  {
   "cell_type": "markdown",
   "metadata": {},
   "source": [
    "## Exercise #1 <br>\n",
    "<p>Cube Number Test... Print out all cubed numbers up to the total value 1000. Meaning that if the cubed number is over 1000 break the loop.</p>"
   ]
  },
  {
   "cell_type": "code",
   "execution_count": 13,
   "metadata": {},
   "outputs": [
    {
     "name": "stdout",
     "output_type": "stream",
     "text": [
      "1\n",
      "8\n",
      "27\n",
      "64\n",
      "125\n",
      "216\n",
      "343\n",
      "512\n",
      "729\n",
      "1000\n"
     ]
    }
   ],
   "source": [
    "for i in range(1, 1000):\n",
    "    if i**3 > 1000:\n",
    "        break\n",
    "    else:\n",
    "        print(i**3)\n",
    "        \n",
    "        \n",
    "        \n",
    "        "
   ]
  },
  {
   "cell_type": "markdown",
   "metadata": {},
   "source": [
    "## Exercise #2 <br>\n",
    "<p>Get first prime numbers up to 100</p>"
   ]
  },
  {
   "cell_type": "code",
   "execution_count": 23,
   "metadata": {},
   "outputs": [
    {
     "ename": "SyntaxError",
     "evalue": "invalid syntax (<ipython-input-23-aa0832e7a960>, line 5)",
     "output_type": "error",
     "traceback": [
      "\u001b[0;36m  File \u001b[0;32m\"<ipython-input-23-aa0832e7a960>\"\u001b[0;36m, line \u001b[0;32m5\u001b[0m\n\u001b[0;31m    if i / 1 != i\u001b[0m\n\u001b[0m                 ^\u001b[0m\n\u001b[0;31mSyntaxError\u001b[0m\u001b[0;31m:\u001b[0m invalid syntax\n"
     ]
    }
   ],
   "source": [
    "# HINT::\n",
    "# An else after an if runs if the if didn’t\n",
    "# An else after a for runs if the for didn’t break\n",
    "for i in range(1, 101):\n",
    "    if i / 1 != i\n",
    "        break\n",
    "    elif i / i != 1\n",
    "        break\n",
    "    else:\n",
    "        print i\n"
   ]
  },
  {
   "cell_type": "markdown",
   "metadata": {},
   "source": [
    "# Exercise 3 <br>\n",
    "<p>Take in a users input for their age, if they are younger than 18 print kids, if they're 18 to 65 print adults, else print seniors</p>"
   ]
  },
  {
   "cell_type": "code",
   "execution_count": 22,
   "metadata": {},
   "outputs": [
    {
     "name": "stdout",
     "output_type": "stream",
     "text": [
      "How old are you?18\n",
      "Adults\n"
     ]
    }
   ],
   "source": [
    "user_age = input(\"How old are you?\")\n",
    "\n",
    "user_age = int(user_age)\n",
    "if user_age < 18:\n",
    "    print(\"Kids\")\n",
    "elif user_age in range (18, 66):\n",
    "    print(\"Adults\")\n",
    "else:\n",
    "    print(\"Seniors\")\n",
    "    \n",
    "    "
   ]
  }
 ],
 "metadata": {
  "kernelspec": {
   "display_name": "Python 3",
   "language": "python",
   "name": "python3"
  },
  "language_info": {
   "codemirror_mode": {
    "name": "ipython",
    "version": 3
   },
   "file_extension": ".py",
   "mimetype": "text/x-python",
   "name": "python",
   "nbconvert_exporter": "python",
   "pygments_lexer": "ipython3",
   "version": "3.8.8"
  }
 },
 "nbformat": 4,
 "nbformat_minor": 2
}
