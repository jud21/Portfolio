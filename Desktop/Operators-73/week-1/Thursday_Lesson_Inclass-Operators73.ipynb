{
 "cells": [
  {
   "cell_type": "markdown",
   "metadata": {},
   "source": [
    "# Object-Oriented-Programming (OOP)"
   ]
  },
  {
   "cell_type": "markdown",
   "metadata": {},
   "source": [
    "## Tasks Today:\n",
    "\n",
    "   \n",
    "\n",
    "1) <b>Creating a Class (Initializing/Declaring)</b> <br>\n",
    "2) <b>Using a Class (Instantiating)</b> <br>\n",
    " &nbsp;&nbsp;&nbsp;&nbsp; a) Creating One Instance <br>\n",
    " &nbsp;&nbsp;&nbsp;&nbsp; b) Creating Multiple Instances <br>\n",
    " &nbsp;&nbsp;&nbsp;&nbsp; c) In-Class Exercise #1 - Create a Class 'Car' and instantiate three different makes of cars <br>\n",
    "3) <b>The \\__init\\__() Method</b> <br>\n",
    " &nbsp;&nbsp;&nbsp;&nbsp; a) The 'self' Attribute <br>\n",
    "4) <b>Class Attributes</b> <br>\n",
    " &nbsp;&nbsp;&nbsp;&nbsp; a) Initializing Attributes <br>\n",
    " &nbsp;&nbsp;&nbsp;&nbsp; b) Setting an Attribute Outside of the \\__init\\__() Method <br>\n",
    " &nbsp;&nbsp;&nbsp;&nbsp; c) Setting Defaults for Attributes <br>\n",
    " &nbsp;&nbsp;&nbsp;&nbsp; d) Accessing Class Attributes <br>\n",
    " &nbsp;&nbsp;&nbsp;&nbsp; e) Changing Class Attributes <br>\n",
    " &nbsp;&nbsp;&nbsp;&nbsp; f) In-Class Exercise #2 - Add a color and wheels attribute to your 'Car' class <br>\n",
    "5) <b>Class Methods</b> <br>\n",
    " &nbsp;&nbsp;&nbsp;&nbsp; a) Creating <br>\n",
    " &nbsp;&nbsp;&nbsp;&nbsp; b) Calling <br>\n",
    " &nbsp;&nbsp;&nbsp;&nbsp; c) Modifying an Attribute's Value Through a Method <br>\n",
    " &nbsp;&nbsp;&nbsp;&nbsp; d) Incrementing an Attribute's Value Through a Method <br>\n",
    " &nbsp;&nbsp;&nbsp;&nbsp; e) In-Class Exercise #3 - Add a method that prints the cars color and wheel number, then call them <br>\n",
    "6) <b>Inheritance</b> <br>\n",
    " &nbsp;&nbsp;&nbsp;&nbsp; a) Syntax for Inheriting from a Parent Class <br>\n",
    " &nbsp;&nbsp;&nbsp;&nbsp; b) The \\__init\\__() Method for a Child Class (super()) <br>\n",
    " &nbsp;&nbsp;&nbsp;&nbsp; c) Defining Attributes and Methods for the Child Class <br>\n",
    " &nbsp;&nbsp;&nbsp;&nbsp; d) Method Overriding <br>\n",
    " &nbsp;&nbsp;&nbsp;&nbsp; e) In-Class Exercise #4 - Create a class 'Ford' that inherits from 'Car' class and initialize it as a Blue Ford Explorer with 4 wheels using the super() method <br>\n",
    "7) <b>Classes as Attributes</b> <br>\n",
    "8) <b>Exercises</b> <br>\n",
    " &nbsp;&nbsp;&nbsp;&nbsp; a) Exercise #1 - Turn the shopping cart program from yesterday into an object-oriented program <br>"
   ]
  },
  {
   "cell_type": "code",
   "execution_count": 113,
   "metadata": {},
   "outputs": [],
   "source": [
    "# cart = []\n",
    "\n",
    "# def addItem(item):\n",
    "#     clear_output()\n",
    "#     cart.append(item)\n",
    "    \n",
    "# def deleteItem(item):\n",
    "#     clear_output()\n",
    "#     cart.remove(item)\n",
    "\n",
    "# def showCart():\n",
    "#     clear_output()\n",
    "#     print('Here is your cart....')\n",
    "#     for item in cart:\n",
    "#         print(item)\n",
    "        \n",
    "# def clearCart():\n",
    "#     clear_output()\n",
    "#     cart.clear()\n",
    "#     print('Your cart is now empty....')\n",
    "    \n",
    "# def shoppingList():\n",
    "#     while True:\n",
    "#         ask = input('Do you want to : Show/Add/Delete or Quit?')\n",
    "#         if ask.lower() == 'quit':\n",
    "#             showCart()\n",
    "#             break\n",
    "#         elif ask.lower() == 'add':\n",
    "#             item = input('WHat should we add?')\n",
    "#             addItem(item)\n",
    "#         elif ask.lower() == 'delete':\n",
    "#             showCart()\n",
    "#             item = input('WHat should we add?')\n",
    "#             deleteItem(item)\n",
    "#             print('items deleted...')\n",
    "#             showCart()    \n",
    "#         elif ask.lower() == 'show':\n",
    "#             showCart()     \n",
    "#         elif ask.lower() == 'clear':\n",
    "#             clearCart()\n",
    "#         else:\n",
    "#             print('please enter a valid command')\n",
    "\n",
    "class Cart():\n",
    "    def __init__(self, items):\n",
    "        self.items = items\n",
    "        \n",
    "   # show the items inside of cart\n",
    "    def showItems(self):\n",
    "        print('Here are the contents of your bag...')\n",
    "        for item in self.items:\n",
    "            print(item)\n",
    "                    \n",
    "    # adding to the items list of my cart\n",
    "    def addItems(self):\n",
    "        product = input('What would you like to add?')\n",
    "        self.items.append(product)\n",
    "        \n",
    "    # deleting items from my cart\n",
    "    def delItems(self):\n",
    "        product = input('What would you like to remove?')\n",
    "        self.items.remove(product)\n",
    "    \n",
    "    # Quit\n",
    "    def quitShopping(self):\n",
    "        print('Thank you for shopping with us today!')\n",
    "        for item in self.items:\n",
    "            print(item)\n",
    "        \n",
    "def run():\n",
    "    shopper = ([])\n",
    "    while True:\n",
    "        response = input('What would you like to do? Add Item/Show Items/Delete Items/Quit')\n",
    "        \n",
    "        if response.lower() == 'quit':\n",
    "            shopper.showItems()\n",
    "            break\n",
    "        \n",
    "        elif response.lower() == 'add items':\n",
    "            shopper.addItems()\n",
    "            \n",
    "        elif response.lower() == 'show items':\n",
    "            shopper.showItems()\n",
    "            \n",
    "        elif response.lower() == 'delete items':\n",
    "            shopper.delItems()\n",
    "           \n",
    "        else:\n",
    "            print('State a valid command.')"
   ]
  },
  {
   "cell_type": "markdown",
   "metadata": {},
   "source": [
    "## Creating a Class (Initializing/Declaring)\n",
    "<p>When creating a class, function, or even a variable you are initializing that object. Initializing and Declaring occur at the same time in Python, whereas in lower level languages you have to declare an object before initializing it. This is the first step in the process of using a class.</p>"
   ]
  },
  {
   "cell_type": "code",
   "execution_count": 1,
   "metadata": {},
   "outputs": [],
   "source": [
    "class Car:\n",
    "    wheels = 4\n",
    "    color = 'blue'"
   ]
  },
  {
   "cell_type": "markdown",
   "metadata": {},
   "source": [
    "## Using a Class (Instantiating)\n",
    "<p>The process of creating a class is called <i>Instantiating</i>. Each time you create a variable of that type of class, it is referred to as an <i>Instance</i> of that class. This is the second step in the process of using a class.</p>"
   ]
  },
  {
   "cell_type": "markdown",
   "metadata": {},
   "source": [
    "##### Creating One Instance"
   ]
  },
  {
   "cell_type": "code",
   "execution_count": 4,
   "metadata": {},
   "outputs": [
    {
     "data": {
      "text/plain": [
       "4"
      ]
     },
     "execution_count": 4,
     "metadata": {},
     "output_type": "execute_result"
    }
   ],
   "source": [
    "ford = Car()\n",
    "\n",
    "ford.wheels"
   ]
  },
  {
   "cell_type": "markdown",
   "metadata": {},
   "source": [
    "##### Creating Multiple Instances"
   ]
  },
  {
   "cell_type": "code",
   "execution_count": 5,
   "metadata": {},
   "outputs": [
    {
     "name": "stdout",
     "output_type": "stream",
     "text": [
      "<__main__.Car object at 0x7f8eb9a95cd0>\n",
      "<__main__.Car object at 0x7f8eb9a954c0>\n",
      "<__main__.Car object at 0x7f8eb9a95cd0>\n"
     ]
    }
   ],
   "source": [
    "chevy = Car()\n",
    "ferrari = Car()\n",
    "bmw = Car()\n",
    "\n",
    "# All are a car object, all are a different version of Car\n",
    "# print(bmw)\n",
    "# print(ferrari)\n",
    "# print(bmw)\n",
    "\n"
   ]
  },
  {
   "cell_type": "markdown",
   "metadata": {},
   "source": [
    "##### In-Class Exercise #1 - Create a Class 'Car' and Instantiate three different makes of cars"
   ]
  },
  {
   "cell_type": "code",
   "execution_count": 8,
   "metadata": {},
   "outputs": [
    {
     "name": "stdout",
     "output_type": "stream",
     "text": [
      "250\n"
     ]
    }
   ],
   "source": [
    "class Car:\n",
    "    doors = 4\n",
    "    horsepower = int(250)\n",
    "    sunroof = True\n",
    "    \n",
    "ford = Car()\n",
    "chevy = Car()\n",
    "bugatti = Car()\n",
    "\n",
    "print(bugatti.horsepower)"
   ]
  },
  {
   "cell_type": "markdown",
   "metadata": {},
   "source": [
    "## The \\__init\\__() Method <br>\n",
    "<p>This method is used in almost every created class, and called only once upon the creation of the class instance. This method will initialize all variables needed for the object.</p>"
   ]
  },
  {
   "cell_type": "code",
   "execution_count": 13,
   "metadata": {},
   "outputs": [
    {
     "data": {
      "text/plain": [
       "'white'"
      ]
     },
     "execution_count": 13,
     "metadata": {},
     "output_type": "execute_result"
    }
   ],
   "source": [
    "class Car:\n",
    "    engine = 'V8'\n",
    "    def __init__(self, wheels, color):\n",
    "        self.wheels = wheels\n",
    "        self.color = color\n",
    "    \n",
    "ford = Car(4, 'black')\n",
    "chevy = Car(4, 'white')\n",
    "\n",
    "ford.color\n",
    "chevy.color"
   ]
  },
  {
   "cell_type": "markdown",
   "metadata": {},
   "source": [
    "##### The 'self' Attribute <br>\n",
    "<p>This attribute is required to keep track of specific instance's attributes. Without the self attribute, the program would not know how to reference or keep track of an instance's attributes.</p>"
   ]
  },
  {
   "cell_type": "code",
   "execution_count": null,
   "metadata": {},
   "outputs": [],
   "source": [
    "# see above"
   ]
  },
  {
   "cell_type": "markdown",
   "metadata": {},
   "source": [
    "## Class Attributes <br>\n",
    "<p>While variables are inside of a class, they are referred to as attributes and not variables. When someone says 'attribute' you know they're speaking about a class. Attributes can be initialized through the init method, or outside of it.</p>"
   ]
  },
  {
   "cell_type": "markdown",
   "metadata": {},
   "source": [
    "##### Initializing Attributes"
   ]
  },
  {
   "cell_type": "code",
   "execution_count": null,
   "metadata": {},
   "outputs": [],
   "source": [
    "# see above"
   ]
  },
  {
   "cell_type": "markdown",
   "metadata": {},
   "source": [
    "##### Accessing Class Attributes"
   ]
  },
  {
   "cell_type": "code",
   "execution_count": null,
   "metadata": {
    "scrolled": true
   },
   "outputs": [],
   "source": [
    "# See Above"
   ]
  },
  {
   "cell_type": "markdown",
   "metadata": {},
   "source": [
    "##### Setting Defaults for Attributes"
   ]
  },
  {
   "cell_type": "code",
   "execution_count": 18,
   "metadata": {},
   "outputs": [
    {
     "data": {
      "text/plain": [
       "'Blue'"
      ]
     },
     "execution_count": 18,
     "metadata": {},
     "output_type": "execute_result"
    }
   ],
   "source": [
    "class Car:\n",
    "    def __init__(self, wheels):\n",
    "        self.wheels = wheels\n",
    "        self.color = 'Blue'\n",
    "        \n",
    "honda = Car(8)\n",
    "jeep = Car(2)\n",
    "\n",
    "jeep.color"
   ]
  },
  {
   "cell_type": "markdown",
   "metadata": {},
   "source": [
    "##### Changing Class Attributes <br>\n",
    "<p>Keep in mind there are global class attributes and then there are attributes only available to each class instance which won't effect other classes.</p>"
   ]
  },
  {
   "cell_type": "code",
   "execution_count": 17,
   "metadata": {},
   "outputs": [
    {
     "data": {
      "text/plain": [
       "'Yellow'"
      ]
     },
     "execution_count": 17,
     "metadata": {},
     "output_type": "execute_result"
    }
   ],
   "source": [
    "jeep.color = \"Yellow\"\n",
    "jeep.color"
   ]
  },
  {
   "cell_type": "code",
   "execution_count": null,
   "metadata": {},
   "outputs": [],
   "source": []
  },
  {
   "cell_type": "markdown",
   "metadata": {},
   "source": [
    "##### In-Class Exercise #2 - Add a doors and seats attribute to your 'Car' class then print out two different instances with different doors and seats"
   ]
  },
  {
   "cell_type": "code",
   "execution_count": 24,
   "metadata": {},
   "outputs": [
    {
     "name": "stdout",
     "output_type": "stream",
     "text": [
      "My Ford has 2 doors and 4 seats!\n"
     ]
    }
   ],
   "source": [
    "class Car:\n",
    "    def __init__(self, doors, seats):\n",
    "        self.doors = doors\n",
    "        self.seats = seats\n",
    "        \n",
    "ford.doors = '2'\n",
    "ford.seats = '4'\n",
    "\n",
    "# Or ford = Car('2', '4')\n",
    "\n",
    "print(f'My Ford has {ford.doors} doors and {ford.seats} seats!')"
   ]
  },
  {
   "cell_type": "markdown",
   "metadata": {},
   "source": [
    "## Class Methods <br>\n",
    "<p>While inside of a class, functions are referred to as 'methods'. If you hear someone mention methods, they're speaking about classes. Methods are essentially functions, but only callable on the instances of a class.</p>"
   ]
  },
  {
   "cell_type": "markdown",
   "metadata": {},
   "source": [
    "##### Creating"
   ]
  },
  {
   "cell_type": "code",
   "execution_count": 69,
   "metadata": {},
   "outputs": [],
   "source": [
    "class ShoppingBag:\n",
    "    \"\"\"\n",
    "    The ShoppingBag class will have handles, capacity, and items\n",
    "    to place inside.\n",
    "    \n",
    "    Attributes in this class:\n",
    "    - handles: expected to be an integer\n",
    "    - capacity: expected to be an integer\n",
    "    - items: expected to be a list\n",
    "    \"\"\"\n",
    "    def __init__(self, handles, capacity, items):\n",
    "        self.handles = handles\n",
    "        self.capacity = capacity\n",
    "        self.items = items\n",
    "        \n",
    "   # Method of ShoppingBag class to show the items inside of items\n",
    "    def showBag(self):\n",
    "        print('Here are the contents of your bag...')\n",
    "        for item in self.items:\n",
    "            print(item)\n",
    "            \n",
    "    # method to show capacity\n",
    "    def showCap(self):\n",
    "        print(f'the capacity of your bag is: {self.capacity}')\n",
    "        \n",
    "    # adding to the items list of my ShoppingBag\n",
    "    def addToBag(self):\n",
    "        product = input('What would you like to add?')\n",
    "        self.items.append(product)\n",
    "        \n",
    "    # changing capacity to a new capacity, given an integer\n",
    "    def changeCap(self, capacity):\n",
    "        self.capacity = capacity\n",
    "        \n",
    "    # increment capacity of bag by 10 (10 being the default...\n",
    "    # can increase as much as you want.)\n",
    "    def increaseCap(self, cap_change = 10):\n",
    "        self.capacity += cap_change\n",
    "        print(f'Your new capacity: {self.capacity}')"
   ]
  },
  {
   "cell_type": "markdown",
   "metadata": {},
   "source": [
    "##### Calling"
   ]
  },
  {
   "cell_type": "code",
   "execution_count": 73,
   "metadata": {},
   "outputs": [
    {
     "name": "stdout",
     "output_type": "stream",
     "text": [
      "What would you like to do? add/show/change cap/quitadd\n",
      "What would you like to add?peanuts\n",
      "What would you like to do? add/show/change cap/quitquit\n",
      "Here are the contents of your bag...\n",
      "peanuts\n",
      "Thanks for shopping!\n"
     ]
    }
   ],
   "source": [
    "def run():\n",
    "    kroger = ShoppingBag(2,20,[])\n",
    "    while True:\n",
    "        response = input('What would you like to do? add/show/change cap/quit')\n",
    "        \n",
    "        if response.lower() == 'quit':\n",
    "            kroger.showBag()\n",
    "            print('Thanks for shopping!')\n",
    "            break\n",
    "        \n",
    "        elif response.lower() == 'add':\n",
    "            kroger.addToBag()\n",
    "            \n",
    "        elif response.lower() == 'show':\n",
    "            kroger.showBag()\n",
    "            \n",
    "        elif response.lower() == 'change cap'\n",
    "            size = input('How much total space do you need?')\n",
    "            kroger.changeCap(size)\n",
    "            kroger.showCap()\n",
    "        else:\n",
    "            print('Try again...')\n",
    "            \n",
    "run()"
   ]
  },
  {
   "cell_type": "markdown",
   "metadata": {},
   "source": [
    "##### Modifying an Attribute's Value Through a Method"
   ]
  },
  {
   "cell_type": "code",
   "execution_count": null,
   "metadata": {},
   "outputs": [],
   "source": []
  },
  {
   "cell_type": "markdown",
   "metadata": {},
   "source": [
    "##### Incrementing an Attribute's Value Through a Method"
   ]
  },
  {
   "cell_type": "code",
   "execution_count": null,
   "metadata": {},
   "outputs": [],
   "source": [
    "items = {}\n",
    "\n",
    "if ui in items:\n",
    "    items[ui] += 1\n",
    "else:\n",
    "    items[ui] = 1"
   ]
  },
  {
   "cell_type": "markdown",
   "metadata": {},
   "source": [
    "##### In-Class Exercise #3 - Add a method that takes in three parameters of year, doors and seats and prints out a formatted print statement with make, model, year, seats, and doors"
   ]
  },
  {
   "cell_type": "code",
   "execution_count": 90,
   "metadata": {},
   "outputs": [
    {
     "name": "stdout",
     "output_type": "stream",
     "text": [
      "This house has 2 doors, 14 windows, and a Shingled roof!\n"
     ]
    }
   ],
   "source": [
    "# Create class with 2 paramters inside of the __init__ which are make and model\n",
    "\n",
    "# Inside of the Car class create a method that has 4 parameter in total (self,year,door,seats)\n",
    "\n",
    "# Output: This car is from 2019 and is a Ford Expolorer and has 4 doors and 5 seats\n",
    "\n",
    "class House:\n",
    "    def __init__(self, doors, windows, roof):\n",
    "        self.doors = doors\n",
    "        self.windows = windows\n",
    "        self.roof = roof\n",
    "    def homeStatement(self):\n",
    "        print(f'This house has {self.doors} doors, {self.windows} windows, and a {self.roof} roof!')\n",
    "\n",
    "capecod = House('2', '14', 'Shingled')\n",
    "capecod.homeStatement()"
   ]
  },
  {
   "cell_type": "markdown",
   "metadata": {},
   "source": [
    "## Inheritance <br>\n",
    "<p>You can create a child-parent relationship between two classes by using inheritance. What this allows you to do is have overriding methods, but also inherit traits from the parent class. Think of it as an actual parent and child, the child will inherit the parent's genes, as will the classes in OOP</p>"
   ]
  },
  {
   "cell_type": "markdown",
   "metadata": {},
   "source": [
    "##### Syntax for Inheriting from a Parent Class"
   ]
  },
  {
   "cell_type": "code",
   "execution_count": 96,
   "metadata": {},
   "outputs": [
    {
     "data": {
      "text/plain": [
       "'Bark!'"
      ]
     },
     "execution_count": 96,
     "metadata": {},
     "output_type": "execute_result"
    }
   ],
   "source": [
    "# create a parent class -- Animal\n",
    "class Animal:\n",
    "    def __init__(self, name, species, legs = 4):\n",
    "        self.name = name\n",
    "        self.species = species\n",
    "        self.legs = legs\n",
    "        \n",
    "    #Some generic sound\n",
    "    def makeSound(self):\n",
    "        print('Generic animal noises here!')\n",
    "        \n",
    "        \n",
    "#Creation of dog class that inherits everything from animal class\n",
    "class Dog(Animal):\n",
    "    speed = 10\n",
    "    def printInfo(self):\n",
    "        print(f'This dog has {self.speed}mph in speed and {self.legs} legs')\n",
    "\n",
    "new_dog = Dog('Gunner', 'Rottweiler')\n",
    "\n",
    "new_dog.name\n",
    "\n",
    "# Creation of grandchild\n",
    "class Mut(Dog):\n",
    "    # Method of override for the og makeSound\n",
    "    def makeSound(self):\n",
    "        noise = 'Bark!'\n",
    "        return noise\n",
    "    \n",
    "griffin = Mut('Griffin', \"who knows\")\n",
    "\n",
    "griffin.makeSound()"
   ]
  },
  {
   "cell_type": "markdown",
   "metadata": {},
   "source": [
    "##### The \\__init\\__() Method for a Child Class - super()"
   ]
  },
  {
   "cell_type": "code",
   "execution_count": 101,
   "metadata": {
    "scrolled": true
   },
   "outputs": [
    {
     "ename": "TypeError",
     "evalue": "__init__() takes from 3 to 4 positional arguments but 5 were given",
     "output_type": "error",
     "traceback": [
      "\u001b[0;31m---------------------------------------------------------------------------\u001b[0m",
      "\u001b[0;31mTypeError\u001b[0m                                 Traceback (most recent call last)",
      "\u001b[0;32m<ipython-input-101-55af058606f0>\u001b[0m in \u001b[0;36m<module>\u001b[0;34m\u001b[0m\n\u001b[1;32m      5\u001b[0m     \u001b[0mself\u001b[0m\u001b[0;34m.\u001b[0m\u001b[0mtail\u001b[0m \u001b[0;34m=\u001b[0m \u001b[0mtail\u001b[0m\u001b[0;34m\u001b[0m\u001b[0;34m\u001b[0m\u001b[0m\n\u001b[1;32m      6\u001b[0m \u001b[0;34m\u001b[0m\u001b[0m\n\u001b[0;32m----> 7\u001b[0;31m \u001b[0mlassie\u001b[0m \u001b[0;34m=\u001b[0m \u001b[0mMut\u001b[0m\u001b[0;34m(\u001b[0m\u001b[0;34m'Lassie'\u001b[0m\u001b[0;34m,\u001b[0m \u001b[0;34m'who knows'\u001b[0m\u001b[0;34m,\u001b[0m \u001b[0;32mTrue\u001b[0m\u001b[0;34m,\u001b[0m \u001b[0;36m3\u001b[0m\u001b[0;34m)\u001b[0m\u001b[0;34m\u001b[0m\u001b[0;34m\u001b[0m\u001b[0m\n\u001b[0m\u001b[1;32m      8\u001b[0m \u001b[0;34m\u001b[0m\u001b[0m\n\u001b[1;32m      9\u001b[0m \u001b[0mlassie\u001b[0m\u001b[0;34m.\u001b[0m\u001b[0mlegs\u001b[0m\u001b[0;34m\u001b[0m\u001b[0;34m\u001b[0m\u001b[0m\n",
      "\u001b[0;31mTypeError\u001b[0m: __init__() takes from 3 to 4 positional arguments but 5 were given"
     ]
    }
   ],
   "source": [
    "#Overriding the Animal class __init__ method that Mut inherited \n",
    "#through Dog\n",
    "def _init__(self, name, species, tail, legs = 4):\n",
    "    super().__init__(name, species, legs)\n",
    "    self.tail = tail\n",
    "    \n",
    "lassie = Mut('Lassie', 'who knows', True, 3)\n",
    "\n",
    "lassie.legs"
   ]
  },
  {
   "cell_type": "markdown",
   "metadata": {},
   "source": [
    "##### Defining Attributes and Methods for the Child Class"
   ]
  },
  {
   "cell_type": "code",
   "execution_count": null,
   "metadata": {},
   "outputs": [],
   "source": [
    "# See Above"
   ]
  },
  {
   "cell_type": "markdown",
   "metadata": {},
   "source": [
    "##### Method Overriding"
   ]
  },
  {
   "cell_type": "code",
   "execution_count": null,
   "metadata": {},
   "outputs": [],
   "source": [
    "# See Above"
   ]
  },
  {
   "cell_type": "markdown",
   "metadata": {},
   "source": [
    "## Classes as Attributes <br>\n",
    "<p>Classes can also be used as attributes within another class. This is useful in situations where you need to keep variables locally stored, instead of globally stored.</p>"
   ]
  },
  {
   "cell_type": "code",
   "execution_count": 108,
   "metadata": {},
   "outputs": [
    {
     "data": {
      "text/plain": [
       "'2022 Rivian R1T has a battery with 60 volts and 20 cells'"
      ]
     },
     "execution_count": 108,
     "metadata": {},
     "output_type": "execute_result"
    }
   ],
   "source": [
    "class Battery:\n",
    "    def __init__(self, cells, volts):\n",
    "        self.cells = cells\n",
    "        self.volts = volts\n",
    "        \n",
    "class Car:\n",
    "    def __init__ (self, year, make, model, battery):\n",
    "        self.year = year\n",
    "        self.make = make\n",
    "        self.model = model\n",
    "        self.battery = battery\n",
    "        \n",
    "    def printInfo(self):\n",
    "        return f'{self.year} {self.make} {self.model} has a battery with {self.battery.volts} volts and {self.battery.cells} cells'\n",
    "\n",
    "battery = Battery(20, 60)\n",
    "\n",
    "rivian = Car(2022, 'Rivian', 'R1T', battery)\n",
    "\n",
    "rivian.printInfo()"
   ]
  },
  {
   "cell_type": "markdown",
   "metadata": {},
   "source": [
    "# Exercises"
   ]
  },
  {
   "cell_type": "markdown",
   "metadata": {},
   "source": [
    "### Exercise 1 - Turn the shopping cart program from yesterday into an object-oriented program\n",
    "\n",
    "The comments in the cell below are there as a guide for thinking about the problem. However, if you feel a different way is best for you and your own thought process, please do what feels best for you by all means."
   ]
  },
  {
   "cell_type": "code",
   "execution_count": 114,
   "metadata": {},
   "outputs": [
    {
     "name": "stdout",
     "output_type": "stream",
     "text": [
      "What would you like to do? Add Item/Show Items/Delete Item/Quit add item\n",
      "What would you like to add?apple\n",
      "What would you like to do? Add Item/Show Items/Delete Item/Quit add item\n",
      "What would you like to add?orange\n",
      "What would you like to do? Add Item/Show Items/Delete Item/Quit delete item\n",
      "What would you like to remove?orange\n",
      "What would you like to do? Add Item/Show Items/Delete Item/Quit show list\n",
      "State a valid command.\n",
      "What would you like to do? Add Item/Show Items/Delete Item/Quit show items\n",
      "Here are the contents of your cart:\n",
      "apple\n",
      "What would you like to do? Add Item/Show Items/Delete Item/Quit quit\n",
      "Thank you for shopping with us today!\n",
      "Here is your final list:\n",
      "apple\n"
     ]
    }
   ],
   "source": [
    "class Cart():\n",
    "    def __init__(self, items):\n",
    "        self.items = items\n",
    "        \n",
    "   # show the items inside of cart\n",
    "    def showItems(self):\n",
    "        print('Here are the contents of your cart:')\n",
    "        for item in self.items:\n",
    "            print(item)\n",
    "                    \n",
    "    # adding items to my cart\n",
    "    def addItems(self):\n",
    "        product = input('What would you like to add?')\n",
    "        self.items.append(product)\n",
    "        \n",
    "    # deleting items from my cart\n",
    "    def delItems(self):\n",
    "        product = input('What would you like to remove?')\n",
    "        self.items.remove(product)\n",
    "    \n",
    "    # Quit\n",
    "    def quitShopping(self):\n",
    "        print('Thank you for shopping with us today!')\n",
    "        print('Here is your final list:')\n",
    "        for item in self.items:\n",
    "            print(item)\n",
    "        \n",
    "def shop():\n",
    "    shopper = Cart([])\n",
    "    while True:\n",
    "        response = input('What would you like to do? Add Item/Show Items/Delete Item/Quit ')\n",
    "        \n",
    "        if response.lower() == 'quit':\n",
    "            shopper.quitShopping()\n",
    "            break\n",
    "        \n",
    "        elif response.lower() == 'add item':\n",
    "            shopper.addItems()\n",
    "            \n",
    "        elif response.lower() == 'show items':\n",
    "            shopper.showItems()\n",
    "            \n",
    "        elif response.lower() == 'delete item':\n",
    "            shopper.delItems()\n",
    "           \n",
    "        else:\n",
    "            print('State a valid command.')\n",
    "            \n",
    "shop()"
   ]
  },
  {
   "cell_type": "markdown",
   "metadata": {},
   "source": [
    "### Exercise 2 - Write a Python class which has two methods get_String and print_String. get_String accept a string from the user and print_String print the string in upper case"
   ]
  },
  {
   "cell_type": "code",
   "execution_count": 126,
   "metadata": {},
   "outputs": [
    {
     "data": {
      "text/plain": [
       "<__main__.strings at 0x7f8eb9b426d0>"
      ]
     },
     "execution_count": 126,
     "metadata": {},
     "output_type": "execute_result"
    }
   ],
   "source": [
    "class strings():\n",
    "    def __init__(self):\n",
    "        self.words = ()\n",
    "    def get_String(self):\n",
    "        words = input('Tell me something:')\n",
    "    def print_String(self):\n",
    "        print(words.self.upper())\n",
    "        \n"
   ]
  }
 ],
 "metadata": {
  "kernelspec": {
   "display_name": "Python 3",
   "language": "python",
   "name": "python3"
  },
  "language_info": {
   "codemirror_mode": {
    "name": "ipython",
    "version": 3
   },
   "file_extension": ".py",
   "mimetype": "text/x-python",
   "name": "python",
   "nbconvert_exporter": "python",
   "pygments_lexer": "ipython3",
   "version": "3.8.8"
  }
 },
 "nbformat": 4,
 "nbformat_minor": 2
}
